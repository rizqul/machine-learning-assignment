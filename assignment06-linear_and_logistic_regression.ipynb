{
 "cells": [
  {
   "cell_type": "markdown",
   "metadata": {
    "collapsed": true,
    "pycharm": {
     "name": "#%% md\n"
    }
   },
   "source": [
    "# Preproccessing"
   ]
  },
  {
   "cell_type": "code",
   "execution_count": 38,
   "outputs": [],
   "source": [
    "import numpy as np\n",
    "import pandas as pd\n",
    "from sklearn.linear_model import LinearRegression, LogisticRegression\n",
    "from sklearn.model_selection import train_test_split\n",
    "from matplotlib import pyplot as plt\n",
    "from sklearn.preprocessing import LabelEncoder"
   ],
   "metadata": {
    "collapsed": false,
    "pycharm": {
     "name": "#%%\n"
    }
   }
  },
  {
   "cell_type": "code",
   "execution_count": 3,
   "outputs": [
    {
     "data": {
      "text/plain": "     Temperature (K)  Luminosity(L/Lo)  Radius(R/Ro)  Absolute magnitude(Mv)  \\\n0               3068          0.002400        0.1700                   16.12   \n1               3042          0.000500        0.1542                   16.60   \n2               2600          0.000300        0.1020                   18.70   \n3               2800          0.000200        0.1600                   16.65   \n4               1939          0.000138        0.1030                   20.06   \n..               ...               ...           ...                     ...   \n235            38940     374830.000000     1356.0000                   -9.93   \n236            30839     834042.000000     1194.0000                  -10.63   \n237             8829     537493.000000     1423.0000                  -10.73   \n238             9235     404940.000000     1112.0000                  -11.23   \n239            37882     294903.000000     1783.0000                   -7.80   \n\n     Star type Star color Spectral Class  \n0            0        Red              M  \n1            0        Red              M  \n2            0        Red              M  \n3            0        Red              M  \n4            0        Red              M  \n..         ...        ...            ...  \n235          5       Blue              O  \n236          5       Blue              O  \n237          5      White              A  \n238          5      White              A  \n239          5       Blue              O  \n\n[240 rows x 7 columns]",
      "text/html": "<div>\n<style scoped>\n    .dataframe tbody tr th:only-of-type {\n        vertical-align: middle;\n    }\n\n    .dataframe tbody tr th {\n        vertical-align: top;\n    }\n\n    .dataframe thead th {\n        text-align: right;\n    }\n</style>\n<table border=\"1\" class=\"dataframe\">\n  <thead>\n    <tr style=\"text-align: right;\">\n      <th></th>\n      <th>Temperature (K)</th>\n      <th>Luminosity(L/Lo)</th>\n      <th>Radius(R/Ro)</th>\n      <th>Absolute magnitude(Mv)</th>\n      <th>Star type</th>\n      <th>Star color</th>\n      <th>Spectral Class</th>\n    </tr>\n  </thead>\n  <tbody>\n    <tr>\n      <th>0</th>\n      <td>3068</td>\n      <td>0.002400</td>\n      <td>0.1700</td>\n      <td>16.12</td>\n      <td>0</td>\n      <td>Red</td>\n      <td>M</td>\n    </tr>\n    <tr>\n      <th>1</th>\n      <td>3042</td>\n      <td>0.000500</td>\n      <td>0.1542</td>\n      <td>16.60</td>\n      <td>0</td>\n      <td>Red</td>\n      <td>M</td>\n    </tr>\n    <tr>\n      <th>2</th>\n      <td>2600</td>\n      <td>0.000300</td>\n      <td>0.1020</td>\n      <td>18.70</td>\n      <td>0</td>\n      <td>Red</td>\n      <td>M</td>\n    </tr>\n    <tr>\n      <th>3</th>\n      <td>2800</td>\n      <td>0.000200</td>\n      <td>0.1600</td>\n      <td>16.65</td>\n      <td>0</td>\n      <td>Red</td>\n      <td>M</td>\n    </tr>\n    <tr>\n      <th>4</th>\n      <td>1939</td>\n      <td>0.000138</td>\n      <td>0.1030</td>\n      <td>20.06</td>\n      <td>0</td>\n      <td>Red</td>\n      <td>M</td>\n    </tr>\n    <tr>\n      <th>...</th>\n      <td>...</td>\n      <td>...</td>\n      <td>...</td>\n      <td>...</td>\n      <td>...</td>\n      <td>...</td>\n      <td>...</td>\n    </tr>\n    <tr>\n      <th>235</th>\n      <td>38940</td>\n      <td>374830.000000</td>\n      <td>1356.0000</td>\n      <td>-9.93</td>\n      <td>5</td>\n      <td>Blue</td>\n      <td>O</td>\n    </tr>\n    <tr>\n      <th>236</th>\n      <td>30839</td>\n      <td>834042.000000</td>\n      <td>1194.0000</td>\n      <td>-10.63</td>\n      <td>5</td>\n      <td>Blue</td>\n      <td>O</td>\n    </tr>\n    <tr>\n      <th>237</th>\n      <td>8829</td>\n      <td>537493.000000</td>\n      <td>1423.0000</td>\n      <td>-10.73</td>\n      <td>5</td>\n      <td>White</td>\n      <td>A</td>\n    </tr>\n    <tr>\n      <th>238</th>\n      <td>9235</td>\n      <td>404940.000000</td>\n      <td>1112.0000</td>\n      <td>-11.23</td>\n      <td>5</td>\n      <td>White</td>\n      <td>A</td>\n    </tr>\n    <tr>\n      <th>239</th>\n      <td>37882</td>\n      <td>294903.000000</td>\n      <td>1783.0000</td>\n      <td>-7.80</td>\n      <td>5</td>\n      <td>Blue</td>\n      <td>O</td>\n    </tr>\n  </tbody>\n</table>\n<p>240 rows × 7 columns</p>\n</div>"
     },
     "execution_count": 3,
     "metadata": {},
     "output_type": "execute_result"
    }
   ],
   "source": [
    "df = pd.read_csv('Datasets/stara_class.csv')\n",
    "df"
   ],
   "metadata": {
    "collapsed": false,
    "pycharm": {
     "name": "#%%\n"
    }
   }
  },
  {
   "cell_type": "code",
   "execution_count": 4,
   "outputs": [],
   "source": [
    "X = df.iloc[ :, :-1]\n",
    "y = df.iloc[:, -1]"
   ],
   "metadata": {
    "collapsed": false,
    "pycharm": {
     "name": "#%%\n"
    }
   }
  },
  {
   "cell_type": "code",
   "execution_count": 29,
   "outputs": [
    {
     "data": {
      "text/plain": "     Temperature (K)  Luminosity(L/Lo)  Radius(R/Ro)  Absolute magnitude(Mv)  \\\n0               3068          0.002400        0.1700                   16.12   \n1               3042          0.000500        0.1542                   16.60   \n2               2600          0.000300        0.1020                   18.70   \n3               2800          0.000200        0.1600                   16.65   \n4               1939          0.000138        0.1030                   20.06   \n..               ...               ...           ...                     ...   \n235            38940     374830.000000     1356.0000                   -9.93   \n236            30839     834042.000000     1194.0000                  -10.63   \n237             8829     537493.000000     1423.0000                  -10.73   \n238             9235     404940.000000     1112.0000                  -11.23   \n239            37882     294903.000000     1783.0000                   -7.80   \n\n     Star type  Star color  \n0            0          10  \n1            0          10  \n2            0          10  \n3            0          10  \n4            0          10  \n..         ...         ...  \n235          5           0  \n236          5           0  \n237          5          11  \n238          5          11  \n239          5           0  \n\n[240 rows x 6 columns]",
      "text/html": "<div>\n<style scoped>\n    .dataframe tbody tr th:only-of-type {\n        vertical-align: middle;\n    }\n\n    .dataframe tbody tr th {\n        vertical-align: top;\n    }\n\n    .dataframe thead th {\n        text-align: right;\n    }\n</style>\n<table border=\"1\" class=\"dataframe\">\n  <thead>\n    <tr style=\"text-align: right;\">\n      <th></th>\n      <th>Temperature (K)</th>\n      <th>Luminosity(L/Lo)</th>\n      <th>Radius(R/Ro)</th>\n      <th>Absolute magnitude(Mv)</th>\n      <th>Star type</th>\n      <th>Star color</th>\n    </tr>\n  </thead>\n  <tbody>\n    <tr>\n      <th>0</th>\n      <td>3068</td>\n      <td>0.002400</td>\n      <td>0.1700</td>\n      <td>16.12</td>\n      <td>0</td>\n      <td>10</td>\n    </tr>\n    <tr>\n      <th>1</th>\n      <td>3042</td>\n      <td>0.000500</td>\n      <td>0.1542</td>\n      <td>16.60</td>\n      <td>0</td>\n      <td>10</td>\n    </tr>\n    <tr>\n      <th>2</th>\n      <td>2600</td>\n      <td>0.000300</td>\n      <td>0.1020</td>\n      <td>18.70</td>\n      <td>0</td>\n      <td>10</td>\n    </tr>\n    <tr>\n      <th>3</th>\n      <td>2800</td>\n      <td>0.000200</td>\n      <td>0.1600</td>\n      <td>16.65</td>\n      <td>0</td>\n      <td>10</td>\n    </tr>\n    <tr>\n      <th>4</th>\n      <td>1939</td>\n      <td>0.000138</td>\n      <td>0.1030</td>\n      <td>20.06</td>\n      <td>0</td>\n      <td>10</td>\n    </tr>\n    <tr>\n      <th>...</th>\n      <td>...</td>\n      <td>...</td>\n      <td>...</td>\n      <td>...</td>\n      <td>...</td>\n      <td>...</td>\n    </tr>\n    <tr>\n      <th>235</th>\n      <td>38940</td>\n      <td>374830.000000</td>\n      <td>1356.0000</td>\n      <td>-9.93</td>\n      <td>5</td>\n      <td>0</td>\n    </tr>\n    <tr>\n      <th>236</th>\n      <td>30839</td>\n      <td>834042.000000</td>\n      <td>1194.0000</td>\n      <td>-10.63</td>\n      <td>5</td>\n      <td>0</td>\n    </tr>\n    <tr>\n      <th>237</th>\n      <td>8829</td>\n      <td>537493.000000</td>\n      <td>1423.0000</td>\n      <td>-10.73</td>\n      <td>5</td>\n      <td>11</td>\n    </tr>\n    <tr>\n      <th>238</th>\n      <td>9235</td>\n      <td>404940.000000</td>\n      <td>1112.0000</td>\n      <td>-11.23</td>\n      <td>5</td>\n      <td>11</td>\n    </tr>\n    <tr>\n      <th>239</th>\n      <td>37882</td>\n      <td>294903.000000</td>\n      <td>1783.0000</td>\n      <td>-7.80</td>\n      <td>5</td>\n      <td>0</td>\n    </tr>\n  </tbody>\n</table>\n<p>240 rows × 6 columns</p>\n</div>"
     },
     "execution_count": 29,
     "metadata": {},
     "output_type": "execute_result"
    }
   ],
   "source": [
    "temp = X['Star color']\n",
    "le = LabelEncoder()\n",
    "temp_encoded = le.fit_transform(temp)\n",
    "\n",
    "X['Star color'] = pd.DataFrame(temp_encoded).values\n",
    "X"
   ],
   "metadata": {
    "collapsed": false,
    "pycharm": {
     "name": "#%%\n"
    }
   }
  },
  {
   "cell_type": "code",
   "execution_count": 21,
   "outputs": [
    {
     "data": {
      "text/plain": "array([5, 5, 5, 5, 5, 5, 5, 5, 5, 5, 5, 5, 5, 5, 5, 5, 5, 5, 5, 5, 1, 0,\n       2, 0, 1, 2, 0, 2, 2, 2, 6, 1, 1, 1, 2, 0, 2, 2, 2, 2, 5, 5, 5, 5,\n       5, 5, 5, 5, 5, 1, 5, 5, 5, 5, 5, 5, 5, 5, 5, 5, 5, 5, 5, 5, 5, 5,\n       5, 5, 5, 5, 5, 5, 5, 5, 5, 5, 5, 5, 5, 5, 2, 2, 0, 1, 1, 0, 1, 1,\n       2, 1, 2, 4, 4, 4, 0, 0, 4, 2, 0, 6, 1, 6, 6, 6, 6, 6, 6, 6, 6, 6,\n       5, 5, 5, 5, 5, 5, 4, 5, 3, 5, 5, 5, 5, 5, 5, 5, 5, 5, 5, 5, 5, 5,\n       5, 5, 5, 5, 5, 5, 5, 5, 1, 1, 1, 1, 1, 0, 1, 2, 0, 1, 1, 0, 0, 1,\n       1, 1, 1, 1, 0, 6, 6, 6, 6, 6, 6, 6, 6, 6, 6, 6, 5, 5, 4, 1, 5, 5,\n       6, 1, 1, 1, 5, 5, 5, 5, 5, 5, 5, 5, 5, 5, 5, 5, 5, 5, 5, 5, 5, 5,\n       5, 5, 1, 1, 1, 1, 1, 1, 1, 1, 1, 1, 1, 0, 0, 1, 6, 6, 0, 1, 1, 2,\n       6, 6, 6, 6, 6, 6, 6, 6, 6, 6, 1, 6, 6, 1, 1, 6, 6, 0, 0, 6])"
     },
     "execution_count": 21,
     "metadata": {},
     "output_type": "execute_result"
    }
   ],
   "source": [
    "y = le.fit_transform(y)\n",
    "y"
   ],
   "metadata": {
    "collapsed": false,
    "pycharm": {
     "name": "#%%\n"
    }
   }
  },
  {
   "cell_type": "code",
   "execution_count": 30,
   "outputs": [],
   "source": [
    "X_train, X_test, y_train, y_test = train_test_split(X, y, test_size =  0.2)"
   ],
   "metadata": {
    "collapsed": false,
    "pycharm": {
     "name": "#%%\n"
    }
   }
  },
  {
   "cell_type": "markdown",
   "source": [
    "# Linear Regression"
   ],
   "metadata": {
    "collapsed": false,
    "pycharm": {
     "name": "#%% md\n"
    }
   }
  },
  {
   "cell_type": "code",
   "execution_count": 31,
   "outputs": [
    {
     "data": {
      "text/plain": "LinearRegression()"
     },
     "execution_count": 31,
     "metadata": {},
     "output_type": "execute_result"
    }
   ],
   "source": [
    "lnr = LinearRegression()\n",
    "lnr.fit(X, y)"
   ],
   "metadata": {
    "collapsed": false,
    "pycharm": {
     "name": "#%%\n"
    }
   }
  },
  {
   "cell_type": "code",
   "execution_count": 32,
   "outputs": [
    {
     "name": "stdout",
     "output_type": "stream",
     "text": [
      "Intercept :10.851935874959716\n",
      "Coefficient :[-9.42152387e-05  5.38923117e-06  5.31135489e-04 -2.73572206e-01\n",
      " -2.01323576e+00 -7.94781093e-02]\n"
     ]
    }
   ],
   "source": [
    "print(\"Intercept :\" + str(lnr.intercept_))\n",
    "print(\"Coefficient :\" + str(lnr.coef_))"
   ],
   "metadata": {
    "collapsed": false,
    "pycharm": {
     "name": "#%%\n"
    }
   }
  },
  {
   "cell_type": "code",
   "execution_count": 36,
   "outputs": [
    {
     "name": "stdout",
     "output_type": "stream",
     "text": [
      "[5.35820877 5.22933531 4.69644908 5.23845986 4.38666768 5.14438587\n",
      " 5.09786326 5.05208976 5.03370783 5.41200878 4.78052818 4.52390306\n",
      " 4.13486373 4.83527818 4.57109527 4.15377889 3.73416263 4.74174619\n",
      " 4.04185653 4.66137376 1.416738   1.38650344 1.37804448 1.18358395\n",
      " 1.85919068 1.06365392 1.89488527 0.94925236 1.07822682 1.57709544\n",
      " 3.52865686 2.81667763 3.44501155 2.8232876  1.53359511 2.35935027\n",
      " 2.16578194 2.05896875 1.6823018  1.55918225 4.62753745 5.22787987\n",
      " 4.19815721 4.7378437  4.88450867 5.21057036 4.20898837 4.22612215\n",
      " 4.5427921  2.48745938 4.49616191 3.91940793 4.24082323 5.91784209\n",
      " 4.15210292 5.01427642 5.75200951 4.3715321  4.34601573 4.63774094\n",
      " 5.30233507 5.09959583 5.37438385 5.15031872 4.61291569 5.06049379\n",
      " 4.76242604 5.29153605 5.03844372 4.4712186  4.36397603 4.93573588\n",
      " 4.1215744  4.48087483 4.73040818 4.52729132 4.08948258 4.48191268\n",
      " 4.29257298 3.92193338 1.34817284 1.66664019 0.94265258 1.64004004\n",
      " 2.00870426 1.93044206 2.21655716 2.57075646 0.71295476 1.77256976\n",
      " 1.46033508 1.17580395 1.29412212 1.92327015 3.08955605 3.91198348\n",
      " 2.41492618 2.06699733 3.19750899 3.68650783 2.73963385 5.12361899\n",
      " 2.9113715  4.38149403 3.98035982 4.39837877 4.06314993 4.32946298\n",
      " 3.00795898 3.16680388 3.81586486 3.88468503 4.69621377 4.07795428\n",
      " 4.14161988 4.1583926  5.06321428 3.31763867 4.11378343 4.34313463\n",
      " 5.04962693 4.26950283 4.277113   5.13196141 5.04286681 4.3831525\n",
      " 5.16278372 5.21626117 4.43704525 4.85097722 4.7788543  4.87554988\n",
      " 4.69621494 4.17322296 3.81760546 3.70357671 4.62589692 3.80409038\n",
      " 4.38514009 3.79014913 1.66241279 1.69351419 1.60601982 2.03752735\n",
      " 2.27314365 1.67823921 1.86059649 0.63949472 1.17198116 2.3710069\n",
      " 3.66375494 3.54077981 3.57771741 3.7093362  3.14348947 2.84417738\n",
      " 2.99331556 3.39893312 3.49460134 3.59550044 3.25848867 4.78948151\n",
      " 5.62230723 5.4427323  5.2725694  4.80684535 3.33650453 2.99696238\n",
      " 4.69120552 5.8551946  4.23893942 3.39696961 6.4360327  3.4204415\n",
      " 3.73575256 3.36601577 2.99341493 3.84194499 2.33691983 2.19753549\n",
      " 5.35587458 4.75168032 4.93117186 5.01028051 5.05925734 5.15344119\n",
      " 5.00375216 5.16851322 4.47450493 5.25239745 4.5799513  4.80187456\n",
      " 4.08244118 4.22500332 4.31166568 3.96637713 3.88519223 3.62755226\n",
      " 4.23474498 3.67570727 1.72272264 2.08719478 2.06814958 2.03955778\n",
      " 2.02808332 1.84639554 1.67623431 1.86488654 1.947281   1.82255361\n",
      " 3.30413331 3.39460573 3.14243463 2.99899651 3.91277415 3.88673785\n",
      " 3.12030943 3.41223987 3.45050258 2.95300073 3.61858719 5.35071311\n",
      " 5.72473948 5.16453807 4.31720055 4.30790112 7.0968523  7.70999208\n",
      " 4.15869583 6.84540921 3.30999404 1.91558112 5.21977759 5.01456735\n",
      " 4.97746541 2.57385295 5.91734682 5.66758115 4.88657397 1.88687365]\n"
     ]
    }
   ],
   "source": [
    "predict_X_lnr = lnr.predict(X)\n",
    "print(predict_X_lnr)"
   ],
   "metadata": {
    "collapsed": false,
    "pycharm": {
     "name": "#%%\n"
    }
   }
  },
  {
   "cell_type": "markdown",
   "source": [
    "# Logistic Regression"
   ],
   "metadata": {
    "collapsed": false,
    "pycharm": {
     "name": "#%% md\n"
    }
   }
  },
  {
   "cell_type": "code",
   "execution_count": 39,
   "outputs": [
    {
     "name": "stderr",
     "output_type": "stream",
     "text": [
      "/home/risqullah/Coding/machine-learning/venv/lib/python3.9/site-packages/sklearn/linear_model/_logistic.py:763: ConvergenceWarning: lbfgs failed to converge (status=1):\n",
      "STOP: TOTAL NO. of ITERATIONS REACHED LIMIT.\n",
      "\n",
      "Increase the number of iterations (max_iter) or scale the data as shown in:\n",
      "    https://scikit-learn.org/stable/modules/preprocessing.html\n",
      "Please also refer to the documentation for alternative solver options:\n",
      "    https://scikit-learn.org/stable/modules/linear_model.html#logistic-regression\n",
      "  n_iter_i = _check_optimize_result(\n"
     ]
    },
    {
     "data": {
      "text/plain": "LogisticRegression()"
     },
     "execution_count": 39,
     "metadata": {},
     "output_type": "execute_result"
    }
   ],
   "source": [
    "lor = LogisticRegression()\n",
    "lor.fit(X_train, y_train)"
   ],
   "metadata": {
    "collapsed": false,
    "pycharm": {
     "name": "#%%\n"
    }
   }
  },
  {
   "cell_type": "code",
   "execution_count": 41,
   "outputs": [],
   "source": [
    "X_test.reset_index(drop=True, inplace=True)"
   ],
   "metadata": {
    "collapsed": false,
    "pycharm": {
     "name": "#%%\n"
    }
   }
  },
  {
   "cell_type": "code",
   "execution_count": 43,
   "outputs": [],
   "source": [
    "predict_X_lor = lor.predict(X_test)\n",
    "predict_X_lor = pd.DataFrame(predict_X_lor)"
   ],
   "metadata": {
    "collapsed": false,
    "pycharm": {
     "name": "#%%\n"
    }
   }
  },
  {
   "cell_type": "code",
   "execution_count": 44,
   "outputs": [
    {
     "data": {
      "text/plain": "        0              1           2       3  4   5  6\n0    9373  424520.000000    24.00000  -5.990  4   0  6\n1   19860       0.001100     0.01310  11.340  2   1  1\n2    3607       0.000230     0.38000  10.340  1  10  1\n3    3304       0.008500     0.18000  13.200  1  10  1\n4   12098     689.000000     7.01000   0.020  3   6  1\n5    2731       0.000437     0.08560  18.090  0  10  1\n6   17200       0.000980     0.01500  12.450  2   2  1\n7   17920       0.001110     0.01060  11.660  2   0  1\n8   38940  374830.000000  1356.00000  -9.930  5   0  1\n9   15680       0.001220     0.01140  11.920  2   0  1\n10  19360       0.001250     0.00998  11.620  2   0  1\n11   7230       0.000080     0.01300  14.080  2   9  1\n12   3142       0.001320     0.25800  14.120  1  10  1\n13   2935       0.000140     0.11600  18.890  0  10  1\n14   2861       0.000190     0.08990  16.710  0  10  1\n15  25390  223000.000000    57.00000  -5.920  4   0  6\n16   9700      74.000000     2.89000   0.160  3  13  1\n17   3340       0.003800     0.24000  13.070  1  10  1\n18   3692       0.003670     0.47000  10.800  1  10  1\n19   2778       0.000849     0.11200  19.450  0  10  1\n20   3496       0.001250     0.33600  14.940  1  10  1\n21   3323       0.000430     0.09120  17.160  0  10  1\n22   4015  282000.000000  1534.00000 -11.390  5  10  5\n23   3500  138000.000000  1420.00000  -8.180  5  10  5\n24   3607       0.022000     0.38000  10.120  1  10  1\n25   2856       0.000896     0.07820  19.560  0  10  1\n26   8829  537493.000000  1423.00000 -10.730  5  11  5\n27  23000  127000.000000    36.00000  -5.760  4   0  1\n28   3523       0.000957     0.12900  16.350  0  10  1\n29   3462       0.005300     0.14800  11.470  1  10  1\n30   2835       0.000340     0.09180  16.960  0  10  1\n31  11567  251000.000000    36.00000  -6.245  4   0  6\n32  13720       0.000180     0.00892  12.970  2  16  1\n33  13420       0.000590     0.00981  13.670  2   2  1\n34   3463       0.002700     0.67500  14.776  1  10  1\n35   3212       0.001600     0.37800  12.854  1  10  1\n36   2968       0.000461     0.11900  17.450  0  10  1\n37  24020       0.001590     0.01270  10.550  2   0  1\n38   3450  174000.000000  1284.00000 -11.280  5  10  5\n39  24490  248490.000000  1134.50000  -8.240  5   6  1\n40   3270  150000.000000    88.00000  -6.020  4  10  6\n41   8930       0.000560     0.00950  13.780  2  16  1\n42   3511       0.000640     0.10900  17.120  0  10  1\n43   7220       0.000170     0.01100  14.230  2  11  1\n44   3749  550000.000000  1648.00000  -8.050  5   7  5\n45   2817       0.000980     0.09110  16.450  0  10  1\n46  23678  244290.000000    35.00000  -6.270  4   0  6\n47   3441       0.039000     0.35100  11.180  1  10  1",
      "text/html": "<div>\n<style scoped>\n    .dataframe tbody tr th:only-of-type {\n        vertical-align: middle;\n    }\n\n    .dataframe tbody tr th {\n        vertical-align: top;\n    }\n\n    .dataframe thead th {\n        text-align: right;\n    }\n</style>\n<table border=\"1\" class=\"dataframe\">\n  <thead>\n    <tr style=\"text-align: right;\">\n      <th></th>\n      <th>0</th>\n      <th>1</th>\n      <th>2</th>\n      <th>3</th>\n      <th>4</th>\n      <th>5</th>\n      <th>6</th>\n    </tr>\n  </thead>\n  <tbody>\n    <tr>\n      <th>0</th>\n      <td>9373</td>\n      <td>424520.000000</td>\n      <td>24.00000</td>\n      <td>-5.990</td>\n      <td>4</td>\n      <td>0</td>\n      <td>6</td>\n    </tr>\n    <tr>\n      <th>1</th>\n      <td>19860</td>\n      <td>0.001100</td>\n      <td>0.01310</td>\n      <td>11.340</td>\n      <td>2</td>\n      <td>1</td>\n      <td>1</td>\n    </tr>\n    <tr>\n      <th>2</th>\n      <td>3607</td>\n      <td>0.000230</td>\n      <td>0.38000</td>\n      <td>10.340</td>\n      <td>1</td>\n      <td>10</td>\n      <td>1</td>\n    </tr>\n    <tr>\n      <th>3</th>\n      <td>3304</td>\n      <td>0.008500</td>\n      <td>0.18000</td>\n      <td>13.200</td>\n      <td>1</td>\n      <td>10</td>\n      <td>1</td>\n    </tr>\n    <tr>\n      <th>4</th>\n      <td>12098</td>\n      <td>689.000000</td>\n      <td>7.01000</td>\n      <td>0.020</td>\n      <td>3</td>\n      <td>6</td>\n      <td>1</td>\n    </tr>\n    <tr>\n      <th>5</th>\n      <td>2731</td>\n      <td>0.000437</td>\n      <td>0.08560</td>\n      <td>18.090</td>\n      <td>0</td>\n      <td>10</td>\n      <td>1</td>\n    </tr>\n    <tr>\n      <th>6</th>\n      <td>17200</td>\n      <td>0.000980</td>\n      <td>0.01500</td>\n      <td>12.450</td>\n      <td>2</td>\n      <td>2</td>\n      <td>1</td>\n    </tr>\n    <tr>\n      <th>7</th>\n      <td>17920</td>\n      <td>0.001110</td>\n      <td>0.01060</td>\n      <td>11.660</td>\n      <td>2</td>\n      <td>0</td>\n      <td>1</td>\n    </tr>\n    <tr>\n      <th>8</th>\n      <td>38940</td>\n      <td>374830.000000</td>\n      <td>1356.00000</td>\n      <td>-9.930</td>\n      <td>5</td>\n      <td>0</td>\n      <td>1</td>\n    </tr>\n    <tr>\n      <th>9</th>\n      <td>15680</td>\n      <td>0.001220</td>\n      <td>0.01140</td>\n      <td>11.920</td>\n      <td>2</td>\n      <td>0</td>\n      <td>1</td>\n    </tr>\n    <tr>\n      <th>10</th>\n      <td>19360</td>\n      <td>0.001250</td>\n      <td>0.00998</td>\n      <td>11.620</td>\n      <td>2</td>\n      <td>0</td>\n      <td>1</td>\n    </tr>\n    <tr>\n      <th>11</th>\n      <td>7230</td>\n      <td>0.000080</td>\n      <td>0.01300</td>\n      <td>14.080</td>\n      <td>2</td>\n      <td>9</td>\n      <td>1</td>\n    </tr>\n    <tr>\n      <th>12</th>\n      <td>3142</td>\n      <td>0.001320</td>\n      <td>0.25800</td>\n      <td>14.120</td>\n      <td>1</td>\n      <td>10</td>\n      <td>1</td>\n    </tr>\n    <tr>\n      <th>13</th>\n      <td>2935</td>\n      <td>0.000140</td>\n      <td>0.11600</td>\n      <td>18.890</td>\n      <td>0</td>\n      <td>10</td>\n      <td>1</td>\n    </tr>\n    <tr>\n      <th>14</th>\n      <td>2861</td>\n      <td>0.000190</td>\n      <td>0.08990</td>\n      <td>16.710</td>\n      <td>0</td>\n      <td>10</td>\n      <td>1</td>\n    </tr>\n    <tr>\n      <th>15</th>\n      <td>25390</td>\n      <td>223000.000000</td>\n      <td>57.00000</td>\n      <td>-5.920</td>\n      <td>4</td>\n      <td>0</td>\n      <td>6</td>\n    </tr>\n    <tr>\n      <th>16</th>\n      <td>9700</td>\n      <td>74.000000</td>\n      <td>2.89000</td>\n      <td>0.160</td>\n      <td>3</td>\n      <td>13</td>\n      <td>1</td>\n    </tr>\n    <tr>\n      <th>17</th>\n      <td>3340</td>\n      <td>0.003800</td>\n      <td>0.24000</td>\n      <td>13.070</td>\n      <td>1</td>\n      <td>10</td>\n      <td>1</td>\n    </tr>\n    <tr>\n      <th>18</th>\n      <td>3692</td>\n      <td>0.003670</td>\n      <td>0.47000</td>\n      <td>10.800</td>\n      <td>1</td>\n      <td>10</td>\n      <td>1</td>\n    </tr>\n    <tr>\n      <th>19</th>\n      <td>2778</td>\n      <td>0.000849</td>\n      <td>0.11200</td>\n      <td>19.450</td>\n      <td>0</td>\n      <td>10</td>\n      <td>1</td>\n    </tr>\n    <tr>\n      <th>20</th>\n      <td>3496</td>\n      <td>0.001250</td>\n      <td>0.33600</td>\n      <td>14.940</td>\n      <td>1</td>\n      <td>10</td>\n      <td>1</td>\n    </tr>\n    <tr>\n      <th>21</th>\n      <td>3323</td>\n      <td>0.000430</td>\n      <td>0.09120</td>\n      <td>17.160</td>\n      <td>0</td>\n      <td>10</td>\n      <td>1</td>\n    </tr>\n    <tr>\n      <th>22</th>\n      <td>4015</td>\n      <td>282000.000000</td>\n      <td>1534.00000</td>\n      <td>-11.390</td>\n      <td>5</td>\n      <td>10</td>\n      <td>5</td>\n    </tr>\n    <tr>\n      <th>23</th>\n      <td>3500</td>\n      <td>138000.000000</td>\n      <td>1420.00000</td>\n      <td>-8.180</td>\n      <td>5</td>\n      <td>10</td>\n      <td>5</td>\n    </tr>\n    <tr>\n      <th>24</th>\n      <td>3607</td>\n      <td>0.022000</td>\n      <td>0.38000</td>\n      <td>10.120</td>\n      <td>1</td>\n      <td>10</td>\n      <td>1</td>\n    </tr>\n    <tr>\n      <th>25</th>\n      <td>2856</td>\n      <td>0.000896</td>\n      <td>0.07820</td>\n      <td>19.560</td>\n      <td>0</td>\n      <td>10</td>\n      <td>1</td>\n    </tr>\n    <tr>\n      <th>26</th>\n      <td>8829</td>\n      <td>537493.000000</td>\n      <td>1423.00000</td>\n      <td>-10.730</td>\n      <td>5</td>\n      <td>11</td>\n      <td>5</td>\n    </tr>\n    <tr>\n      <th>27</th>\n      <td>23000</td>\n      <td>127000.000000</td>\n      <td>36.00000</td>\n      <td>-5.760</td>\n      <td>4</td>\n      <td>0</td>\n      <td>1</td>\n    </tr>\n    <tr>\n      <th>28</th>\n      <td>3523</td>\n      <td>0.000957</td>\n      <td>0.12900</td>\n      <td>16.350</td>\n      <td>0</td>\n      <td>10</td>\n      <td>1</td>\n    </tr>\n    <tr>\n      <th>29</th>\n      <td>3462</td>\n      <td>0.005300</td>\n      <td>0.14800</td>\n      <td>11.470</td>\n      <td>1</td>\n      <td>10</td>\n      <td>1</td>\n    </tr>\n    <tr>\n      <th>30</th>\n      <td>2835</td>\n      <td>0.000340</td>\n      <td>0.09180</td>\n      <td>16.960</td>\n      <td>0</td>\n      <td>10</td>\n      <td>1</td>\n    </tr>\n    <tr>\n      <th>31</th>\n      <td>11567</td>\n      <td>251000.000000</td>\n      <td>36.00000</td>\n      <td>-6.245</td>\n      <td>4</td>\n      <td>0</td>\n      <td>6</td>\n    </tr>\n    <tr>\n      <th>32</th>\n      <td>13720</td>\n      <td>0.000180</td>\n      <td>0.00892</td>\n      <td>12.970</td>\n      <td>2</td>\n      <td>16</td>\n      <td>1</td>\n    </tr>\n    <tr>\n      <th>33</th>\n      <td>13420</td>\n      <td>0.000590</td>\n      <td>0.00981</td>\n      <td>13.670</td>\n      <td>2</td>\n      <td>2</td>\n      <td>1</td>\n    </tr>\n    <tr>\n      <th>34</th>\n      <td>3463</td>\n      <td>0.002700</td>\n      <td>0.67500</td>\n      <td>14.776</td>\n      <td>1</td>\n      <td>10</td>\n      <td>1</td>\n    </tr>\n    <tr>\n      <th>35</th>\n      <td>3212</td>\n      <td>0.001600</td>\n      <td>0.37800</td>\n      <td>12.854</td>\n      <td>1</td>\n      <td>10</td>\n      <td>1</td>\n    </tr>\n    <tr>\n      <th>36</th>\n      <td>2968</td>\n      <td>0.000461</td>\n      <td>0.11900</td>\n      <td>17.450</td>\n      <td>0</td>\n      <td>10</td>\n      <td>1</td>\n    </tr>\n    <tr>\n      <th>37</th>\n      <td>24020</td>\n      <td>0.001590</td>\n      <td>0.01270</td>\n      <td>10.550</td>\n      <td>2</td>\n      <td>0</td>\n      <td>1</td>\n    </tr>\n    <tr>\n      <th>38</th>\n      <td>3450</td>\n      <td>174000.000000</td>\n      <td>1284.00000</td>\n      <td>-11.280</td>\n      <td>5</td>\n      <td>10</td>\n      <td>5</td>\n    </tr>\n    <tr>\n      <th>39</th>\n      <td>24490</td>\n      <td>248490.000000</td>\n      <td>1134.50000</td>\n      <td>-8.240</td>\n      <td>5</td>\n      <td>6</td>\n      <td>1</td>\n    </tr>\n    <tr>\n      <th>40</th>\n      <td>3270</td>\n      <td>150000.000000</td>\n      <td>88.00000</td>\n      <td>-6.020</td>\n      <td>4</td>\n      <td>10</td>\n      <td>6</td>\n    </tr>\n    <tr>\n      <th>41</th>\n      <td>8930</td>\n      <td>0.000560</td>\n      <td>0.00950</td>\n      <td>13.780</td>\n      <td>2</td>\n      <td>16</td>\n      <td>1</td>\n    </tr>\n    <tr>\n      <th>42</th>\n      <td>3511</td>\n      <td>0.000640</td>\n      <td>0.10900</td>\n      <td>17.120</td>\n      <td>0</td>\n      <td>10</td>\n      <td>1</td>\n    </tr>\n    <tr>\n      <th>43</th>\n      <td>7220</td>\n      <td>0.000170</td>\n      <td>0.01100</td>\n      <td>14.230</td>\n      <td>2</td>\n      <td>11</td>\n      <td>1</td>\n    </tr>\n    <tr>\n      <th>44</th>\n      <td>3749</td>\n      <td>550000.000000</td>\n      <td>1648.00000</td>\n      <td>-8.050</td>\n      <td>5</td>\n      <td>7</td>\n      <td>5</td>\n    </tr>\n    <tr>\n      <th>45</th>\n      <td>2817</td>\n      <td>0.000980</td>\n      <td>0.09110</td>\n      <td>16.450</td>\n      <td>0</td>\n      <td>10</td>\n      <td>1</td>\n    </tr>\n    <tr>\n      <th>46</th>\n      <td>23678</td>\n      <td>244290.000000</td>\n      <td>35.00000</td>\n      <td>-6.270</td>\n      <td>4</td>\n      <td>0</td>\n      <td>6</td>\n    </tr>\n    <tr>\n      <th>47</th>\n      <td>3441</td>\n      <td>0.039000</td>\n      <td>0.35100</td>\n      <td>11.180</td>\n      <td>1</td>\n      <td>10</td>\n      <td>1</td>\n    </tr>\n  </tbody>\n</table>\n</div>"
     },
     "execution_count": 44,
     "metadata": {},
     "output_type": "execute_result"
    }
   ],
   "source": [
    "final = pd.concat([X_test, predict_X_lor], axis = 1, ignore_index = True)\n",
    "final"
   ],
   "metadata": {
    "collapsed": false,
    "pycharm": {
     "name": "#%%\n"
    }
   }
  },
  {
   "cell_type": "code",
   "execution_count": null,
   "outputs": [],
   "source": [],
   "metadata": {
    "collapsed": false,
    "pycharm": {
     "name": "#%%\n"
    }
   }
  }
 ],
 "metadata": {
  "kernelspec": {
   "display_name": "Python 3",
   "language": "python",
   "name": "python3"
  },
  "language_info": {
   "codemirror_mode": {
    "name": "ipython",
    "version": 2
   },
   "file_extension": ".py",
   "mimetype": "text/x-python",
   "name": "python",
   "nbconvert_exporter": "python",
   "pygments_lexer": "ipython2",
   "version": "2.7.6"
  }
 },
 "nbformat": 4,
 "nbformat_minor": 0
}