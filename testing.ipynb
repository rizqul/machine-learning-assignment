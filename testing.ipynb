{
 "cells": [
  {
   "cell_type": "code",
   "execution_count": 3,
   "metadata": {
    "collapsed": true
   },
   "outputs": [],
   "source": [
    "import pandas as pd\n",
    "from mlxtend.frequent_patterns import apriori, association_rules\n",
    "from mlxtend.preprocessing import transactionencoder"
   ]
  },
  {
   "cell_type": "code",
   "execution_count": 4,
   "outputs": [],
   "source": [
    "data_raw = [\n",
    "    ['milk', 'onion', 'nutmeg', 'kidney beans', 'eggs', 'yogurt'],\n",
    "    ['dill', 'onion', 'nutmeg', 'kidney beans', 'eggs', 'yogurt'],\n",
    "    ['milk', 'apple', 'kidney beans', 'eggs'],\n",
    "    ['milk', 'unicorn', 'corn', 'kidney beans', 'yogurt'],\n",
    "    ['corn', 'onion', 'kidney beans', 'ice cream', 'eggs']\n",
    "]"
   ],
   "metadata": {
    "collapsed": false,
    "pycharm": {
     "name": "#%%\n"
    }
   }
  },
  {
   "cell_type": "code",
   "execution_count": 5,
   "outputs": [],
   "source": [
    "# fix data formating before convert into dataframe\n",
    "te = transactionencoder.TransactionEncoder()\n",
    "te_ary = te.fit(data_raw).transform(data_raw)"
   ],
   "metadata": {
    "collapsed": false,
    "pycharm": {
     "name": "#%%\n"
    }
   }
  },
  {
   "cell_type": "code",
   "execution_count": 6,
   "outputs": [
    {
     "data": {
      "text/plain": "   apple   corn   dill   eggs  ice cream  kidney beans   milk  nutmeg  onion  \\\n0  False  False  False   True      False          True   True    True   True   \n1  False  False   True   True      False          True  False    True   True   \n2   True  False  False   True      False          True   True   False  False   \n3  False   True  False  False      False          True   True   False  False   \n4  False   True  False   True       True          True  False   False   True   \n\n   unicorn  yogurt  \n0    False    True  \n1    False    True  \n2    False   False  \n3     True    True  \n4    False   False  ",
      "text/html": "<div>\n<style scoped>\n    .dataframe tbody tr th:only-of-type {\n        vertical-align: middle;\n    }\n\n    .dataframe tbody tr th {\n        vertical-align: top;\n    }\n\n    .dataframe thead th {\n        text-align: right;\n    }\n</style>\n<table border=\"1\" class=\"dataframe\">\n  <thead>\n    <tr style=\"text-align: right;\">\n      <th></th>\n      <th>apple</th>\n      <th>corn</th>\n      <th>dill</th>\n      <th>eggs</th>\n      <th>ice cream</th>\n      <th>kidney beans</th>\n      <th>milk</th>\n      <th>nutmeg</th>\n      <th>onion</th>\n      <th>unicorn</th>\n      <th>yogurt</th>\n    </tr>\n  </thead>\n  <tbody>\n    <tr>\n      <th>0</th>\n      <td>False</td>\n      <td>False</td>\n      <td>False</td>\n      <td>True</td>\n      <td>False</td>\n      <td>True</td>\n      <td>True</td>\n      <td>True</td>\n      <td>True</td>\n      <td>False</td>\n      <td>True</td>\n    </tr>\n    <tr>\n      <th>1</th>\n      <td>False</td>\n      <td>False</td>\n      <td>True</td>\n      <td>True</td>\n      <td>False</td>\n      <td>True</td>\n      <td>False</td>\n      <td>True</td>\n      <td>True</td>\n      <td>False</td>\n      <td>True</td>\n    </tr>\n    <tr>\n      <th>2</th>\n      <td>True</td>\n      <td>False</td>\n      <td>False</td>\n      <td>True</td>\n      <td>False</td>\n      <td>True</td>\n      <td>True</td>\n      <td>False</td>\n      <td>False</td>\n      <td>False</td>\n      <td>False</td>\n    </tr>\n    <tr>\n      <th>3</th>\n      <td>False</td>\n      <td>True</td>\n      <td>False</td>\n      <td>False</td>\n      <td>False</td>\n      <td>True</td>\n      <td>True</td>\n      <td>False</td>\n      <td>False</td>\n      <td>True</td>\n      <td>True</td>\n    </tr>\n    <tr>\n      <th>4</th>\n      <td>False</td>\n      <td>True</td>\n      <td>False</td>\n      <td>True</td>\n      <td>True</td>\n      <td>True</td>\n      <td>False</td>\n      <td>False</td>\n      <td>True</td>\n      <td>False</td>\n      <td>False</td>\n    </tr>\n  </tbody>\n</table>\n</div>"
     },
     "execution_count": 6,
     "metadata": {},
     "output_type": "execute_result"
    }
   ],
   "source": [
    "# convert raw data into data frame\n",
    "dataset = pd.DataFrame(te_ary, columns=te.columns_)\n",
    "dataset.head()"
   ],
   "metadata": {
    "collapsed": false,
    "pycharm": {
     "name": "#%%\n"
    }
   }
  },
  {
   "cell_type": "code",
   "execution_count": 7,
   "outputs": [
    {
     "data": {
      "text/plain": "    support                     itemsets\n0       0.8                       (eggs)\n1       1.0               (kidney beans)\n2       0.6                       (milk)\n3       0.6                      (onion)\n4       0.6                     (yogurt)\n5       0.8         (kidney beans, eggs)\n6       0.6                (onion, eggs)\n7       0.6         (kidney beans, milk)\n8       0.6        (kidney beans, onion)\n9       0.6       (kidney beans, yogurt)\n10      0.6  (kidney beans, onion, eggs)",
      "text/html": "<div>\n<style scoped>\n    .dataframe tbody tr th:only-of-type {\n        vertical-align: middle;\n    }\n\n    .dataframe tbody tr th {\n        vertical-align: top;\n    }\n\n    .dataframe thead th {\n        text-align: right;\n    }\n</style>\n<table border=\"1\" class=\"dataframe\">\n  <thead>\n    <tr style=\"text-align: right;\">\n      <th></th>\n      <th>support</th>\n      <th>itemsets</th>\n    </tr>\n  </thead>\n  <tbody>\n    <tr>\n      <th>0</th>\n      <td>0.8</td>\n      <td>(eggs)</td>\n    </tr>\n    <tr>\n      <th>1</th>\n      <td>1.0</td>\n      <td>(kidney beans)</td>\n    </tr>\n    <tr>\n      <th>2</th>\n      <td>0.6</td>\n      <td>(milk)</td>\n    </tr>\n    <tr>\n      <th>3</th>\n      <td>0.6</td>\n      <td>(onion)</td>\n    </tr>\n    <tr>\n      <th>4</th>\n      <td>0.6</td>\n      <td>(yogurt)</td>\n    </tr>\n    <tr>\n      <th>5</th>\n      <td>0.8</td>\n      <td>(kidney beans, eggs)</td>\n    </tr>\n    <tr>\n      <th>6</th>\n      <td>0.6</td>\n      <td>(onion, eggs)</td>\n    </tr>\n    <tr>\n      <th>7</th>\n      <td>0.6</td>\n      <td>(kidney beans, milk)</td>\n    </tr>\n    <tr>\n      <th>8</th>\n      <td>0.6</td>\n      <td>(kidney beans, onion)</td>\n    </tr>\n    <tr>\n      <th>9</th>\n      <td>0.6</td>\n      <td>(kidney beans, yogurt)</td>\n    </tr>\n    <tr>\n      <th>10</th>\n      <td>0.6</td>\n      <td>(kidney beans, onion, eggs)</td>\n    </tr>\n  </tbody>\n</table>\n</div>"
     },
     "execution_count": 7,
     "metadata": {},
     "output_type": "execute_result"
    }
   ],
   "source": [
    "# search the transaction with support >= 0.6\n",
    "frequent_itemset = apriori(dataset, min_support=0.6, use_colnames=True)\n",
    "frequent_itemset"
   ],
   "metadata": {
    "collapsed": false,
    "pycharm": {
     "name": "#%%\n"
    }
   }
  },
  {
   "cell_type": "code",
   "execution_count": 8,
   "outputs": [
    {
     "data": {
      "text/plain": "              antecedents            consequents  antecedent support  \\\n0          (kidney beans)                 (eggs)                 1.0   \n1                  (eggs)         (kidney beans)                 0.8   \n2                 (onion)                 (eggs)                 0.6   \n3                  (eggs)                (onion)                 0.8   \n4          (kidney beans)                 (milk)                 1.0   \n5                  (milk)         (kidney beans)                 0.6   \n6          (kidney beans)                (onion)                 1.0   \n7                 (onion)         (kidney beans)                 0.6   \n8          (kidney beans)               (yogurt)                 1.0   \n9                (yogurt)         (kidney beans)                 0.6   \n10  (kidney beans, onion)                 (eggs)                 0.6   \n11   (kidney beans, eggs)                (onion)                 0.8   \n12          (onion, eggs)         (kidney beans)                 0.6   \n13         (kidney beans)          (onion, eggs)                 1.0   \n14                (onion)   (kidney beans, eggs)                 0.6   \n15                 (eggs)  (kidney beans, onion)                 0.8   \n\n    consequent support  support  confidence  lift  leverage  conviction  \n0                  0.8      0.8        0.80  1.00      0.00         1.0  \n1                  1.0      0.8        1.00  1.00      0.00         inf  \n2                  0.8      0.6        1.00  1.25      0.12         inf  \n3                  0.6      0.6        0.75  1.25      0.12         1.6  \n4                  0.6      0.6        0.60  1.00      0.00         1.0  \n5                  1.0      0.6        1.00  1.00      0.00         inf  \n6                  0.6      0.6        0.60  1.00      0.00         1.0  \n7                  1.0      0.6        1.00  1.00      0.00         inf  \n8                  0.6      0.6        0.60  1.00      0.00         1.0  \n9                  1.0      0.6        1.00  1.00      0.00         inf  \n10                 0.8      0.6        1.00  1.25      0.12         inf  \n11                 0.6      0.6        0.75  1.25      0.12         1.6  \n12                 1.0      0.6        1.00  1.00      0.00         inf  \n13                 0.6      0.6        0.60  1.00      0.00         1.0  \n14                 0.8      0.6        1.00  1.25      0.12         inf  \n15                 0.6      0.6        0.75  1.25      0.12         1.6  ",
      "text/html": "<div>\n<style scoped>\n    .dataframe tbody tr th:only-of-type {\n        vertical-align: middle;\n    }\n\n    .dataframe tbody tr th {\n        vertical-align: top;\n    }\n\n    .dataframe thead th {\n        text-align: right;\n    }\n</style>\n<table border=\"1\" class=\"dataframe\">\n  <thead>\n    <tr style=\"text-align: right;\">\n      <th></th>\n      <th>antecedents</th>\n      <th>consequents</th>\n      <th>antecedent support</th>\n      <th>consequent support</th>\n      <th>support</th>\n      <th>confidence</th>\n      <th>lift</th>\n      <th>leverage</th>\n      <th>conviction</th>\n    </tr>\n  </thead>\n  <tbody>\n    <tr>\n      <th>0</th>\n      <td>(kidney beans)</td>\n      <td>(eggs)</td>\n      <td>1.0</td>\n      <td>0.8</td>\n      <td>0.8</td>\n      <td>0.80</td>\n      <td>1.00</td>\n      <td>0.00</td>\n      <td>1.0</td>\n    </tr>\n    <tr>\n      <th>1</th>\n      <td>(eggs)</td>\n      <td>(kidney beans)</td>\n      <td>0.8</td>\n      <td>1.0</td>\n      <td>0.8</td>\n      <td>1.00</td>\n      <td>1.00</td>\n      <td>0.00</td>\n      <td>inf</td>\n    </tr>\n    <tr>\n      <th>2</th>\n      <td>(onion)</td>\n      <td>(eggs)</td>\n      <td>0.6</td>\n      <td>0.8</td>\n      <td>0.6</td>\n      <td>1.00</td>\n      <td>1.25</td>\n      <td>0.12</td>\n      <td>inf</td>\n    </tr>\n    <tr>\n      <th>3</th>\n      <td>(eggs)</td>\n      <td>(onion)</td>\n      <td>0.8</td>\n      <td>0.6</td>\n      <td>0.6</td>\n      <td>0.75</td>\n      <td>1.25</td>\n      <td>0.12</td>\n      <td>1.6</td>\n    </tr>\n    <tr>\n      <th>4</th>\n      <td>(kidney beans)</td>\n      <td>(milk)</td>\n      <td>1.0</td>\n      <td>0.6</td>\n      <td>0.6</td>\n      <td>0.60</td>\n      <td>1.00</td>\n      <td>0.00</td>\n      <td>1.0</td>\n    </tr>\n    <tr>\n      <th>5</th>\n      <td>(milk)</td>\n      <td>(kidney beans)</td>\n      <td>0.6</td>\n      <td>1.0</td>\n      <td>0.6</td>\n      <td>1.00</td>\n      <td>1.00</td>\n      <td>0.00</td>\n      <td>inf</td>\n    </tr>\n    <tr>\n      <th>6</th>\n      <td>(kidney beans)</td>\n      <td>(onion)</td>\n      <td>1.0</td>\n      <td>0.6</td>\n      <td>0.6</td>\n      <td>0.60</td>\n      <td>1.00</td>\n      <td>0.00</td>\n      <td>1.0</td>\n    </tr>\n    <tr>\n      <th>7</th>\n      <td>(onion)</td>\n      <td>(kidney beans)</td>\n      <td>0.6</td>\n      <td>1.0</td>\n      <td>0.6</td>\n      <td>1.00</td>\n      <td>1.00</td>\n      <td>0.00</td>\n      <td>inf</td>\n    </tr>\n    <tr>\n      <th>8</th>\n      <td>(kidney beans)</td>\n      <td>(yogurt)</td>\n      <td>1.0</td>\n      <td>0.6</td>\n      <td>0.6</td>\n      <td>0.60</td>\n      <td>1.00</td>\n      <td>0.00</td>\n      <td>1.0</td>\n    </tr>\n    <tr>\n      <th>9</th>\n      <td>(yogurt)</td>\n      <td>(kidney beans)</td>\n      <td>0.6</td>\n      <td>1.0</td>\n      <td>0.6</td>\n      <td>1.00</td>\n      <td>1.00</td>\n      <td>0.00</td>\n      <td>inf</td>\n    </tr>\n    <tr>\n      <th>10</th>\n      <td>(kidney beans, onion)</td>\n      <td>(eggs)</td>\n      <td>0.6</td>\n      <td>0.8</td>\n      <td>0.6</td>\n      <td>1.00</td>\n      <td>1.25</td>\n      <td>0.12</td>\n      <td>inf</td>\n    </tr>\n    <tr>\n      <th>11</th>\n      <td>(kidney beans, eggs)</td>\n      <td>(onion)</td>\n      <td>0.8</td>\n      <td>0.6</td>\n      <td>0.6</td>\n      <td>0.75</td>\n      <td>1.25</td>\n      <td>0.12</td>\n      <td>1.6</td>\n    </tr>\n    <tr>\n      <th>12</th>\n      <td>(onion, eggs)</td>\n      <td>(kidney beans)</td>\n      <td>0.6</td>\n      <td>1.0</td>\n      <td>0.6</td>\n      <td>1.00</td>\n      <td>1.00</td>\n      <td>0.00</td>\n      <td>inf</td>\n    </tr>\n    <tr>\n      <th>13</th>\n      <td>(kidney beans)</td>\n      <td>(onion, eggs)</td>\n      <td>1.0</td>\n      <td>0.6</td>\n      <td>0.6</td>\n      <td>0.60</td>\n      <td>1.00</td>\n      <td>0.00</td>\n      <td>1.0</td>\n    </tr>\n    <tr>\n      <th>14</th>\n      <td>(onion)</td>\n      <td>(kidney beans, eggs)</td>\n      <td>0.6</td>\n      <td>0.8</td>\n      <td>0.6</td>\n      <td>1.00</td>\n      <td>1.25</td>\n      <td>0.12</td>\n      <td>inf</td>\n    </tr>\n    <tr>\n      <th>15</th>\n      <td>(eggs)</td>\n      <td>(kidney beans, onion)</td>\n      <td>0.8</td>\n      <td>0.6</td>\n      <td>0.6</td>\n      <td>0.75</td>\n      <td>1.25</td>\n      <td>0.12</td>\n      <td>1.6</td>\n    </tr>\n  </tbody>\n</table>\n</div>"
     },
     "execution_count": 8,
     "metadata": {},
     "output_type": "execute_result"
    }
   ],
   "source": [
    "# filter the transaction with confidence >= 0.5\n",
    "# show the dataframe\n",
    "result = association_rules(frequent_itemset, metric=\"confidence\", min_threshold=0.5)\n",
    "result"
   ],
   "metadata": {
    "collapsed": false,
    "pycharm": {
     "name": "#%%\n"
    }
   }
  },
  {
   "cell_type": "code",
   "execution_count": 9,
   "outputs": [
    {
     "data": {
      "text/plain": "              antecedents            consequents  support  confidence  lift\n0          (kidney beans)                 (eggs)      0.8        0.80  1.00\n1                  (eggs)         (kidney beans)      0.8        1.00  1.00\n2                 (onion)                 (eggs)      0.6        1.00  1.25\n3                  (eggs)                (onion)      0.6        0.75  1.25\n4          (kidney beans)                 (milk)      0.6        0.60  1.00\n5                  (milk)         (kidney beans)      0.6        1.00  1.00\n6          (kidney beans)                (onion)      0.6        0.60  1.00\n7                 (onion)         (kidney beans)      0.6        1.00  1.00\n8          (kidney beans)               (yogurt)      0.6        0.60  1.00\n9                (yogurt)         (kidney beans)      0.6        1.00  1.00\n10  (kidney beans, onion)                 (eggs)      0.6        1.00  1.25\n11   (kidney beans, eggs)                (onion)      0.6        0.75  1.25\n12          (onion, eggs)         (kidney beans)      0.6        1.00  1.00\n13         (kidney beans)          (onion, eggs)      0.6        0.60  1.00\n14                (onion)   (kidney beans, eggs)      0.6        1.00  1.25\n15                 (eggs)  (kidney beans, onion)      0.6        0.75  1.25",
      "text/html": "<div>\n<style scoped>\n    .dataframe tbody tr th:only-of-type {\n        vertical-align: middle;\n    }\n\n    .dataframe tbody tr th {\n        vertical-align: top;\n    }\n\n    .dataframe thead th {\n        text-align: right;\n    }\n</style>\n<table border=\"1\" class=\"dataframe\">\n  <thead>\n    <tr style=\"text-align: right;\">\n      <th></th>\n      <th>antecedents</th>\n      <th>consequents</th>\n      <th>support</th>\n      <th>confidence</th>\n      <th>lift</th>\n    </tr>\n  </thead>\n  <tbody>\n    <tr>\n      <th>0</th>\n      <td>(kidney beans)</td>\n      <td>(eggs)</td>\n      <td>0.8</td>\n      <td>0.80</td>\n      <td>1.00</td>\n    </tr>\n    <tr>\n      <th>1</th>\n      <td>(eggs)</td>\n      <td>(kidney beans)</td>\n      <td>0.8</td>\n      <td>1.00</td>\n      <td>1.00</td>\n    </tr>\n    <tr>\n      <th>2</th>\n      <td>(onion)</td>\n      <td>(eggs)</td>\n      <td>0.6</td>\n      <td>1.00</td>\n      <td>1.25</td>\n    </tr>\n    <tr>\n      <th>3</th>\n      <td>(eggs)</td>\n      <td>(onion)</td>\n      <td>0.6</td>\n      <td>0.75</td>\n      <td>1.25</td>\n    </tr>\n    <tr>\n      <th>4</th>\n      <td>(kidney beans)</td>\n      <td>(milk)</td>\n      <td>0.6</td>\n      <td>0.60</td>\n      <td>1.00</td>\n    </tr>\n    <tr>\n      <th>5</th>\n      <td>(milk)</td>\n      <td>(kidney beans)</td>\n      <td>0.6</td>\n      <td>1.00</td>\n      <td>1.00</td>\n    </tr>\n    <tr>\n      <th>6</th>\n      <td>(kidney beans)</td>\n      <td>(onion)</td>\n      <td>0.6</td>\n      <td>0.60</td>\n      <td>1.00</td>\n    </tr>\n    <tr>\n      <th>7</th>\n      <td>(onion)</td>\n      <td>(kidney beans)</td>\n      <td>0.6</td>\n      <td>1.00</td>\n      <td>1.00</td>\n    </tr>\n    <tr>\n      <th>8</th>\n      <td>(kidney beans)</td>\n      <td>(yogurt)</td>\n      <td>0.6</td>\n      <td>0.60</td>\n      <td>1.00</td>\n    </tr>\n    <tr>\n      <th>9</th>\n      <td>(yogurt)</td>\n      <td>(kidney beans)</td>\n      <td>0.6</td>\n      <td>1.00</td>\n      <td>1.00</td>\n    </tr>\n    <tr>\n      <th>10</th>\n      <td>(kidney beans, onion)</td>\n      <td>(eggs)</td>\n      <td>0.6</td>\n      <td>1.00</td>\n      <td>1.25</td>\n    </tr>\n    <tr>\n      <th>11</th>\n      <td>(kidney beans, eggs)</td>\n      <td>(onion)</td>\n      <td>0.6</td>\n      <td>0.75</td>\n      <td>1.25</td>\n    </tr>\n    <tr>\n      <th>12</th>\n      <td>(onion, eggs)</td>\n      <td>(kidney beans)</td>\n      <td>0.6</td>\n      <td>1.00</td>\n      <td>1.00</td>\n    </tr>\n    <tr>\n      <th>13</th>\n      <td>(kidney beans)</td>\n      <td>(onion, eggs)</td>\n      <td>0.6</td>\n      <td>0.60</td>\n      <td>1.00</td>\n    </tr>\n    <tr>\n      <th>14</th>\n      <td>(onion)</td>\n      <td>(kidney beans, eggs)</td>\n      <td>0.6</td>\n      <td>1.00</td>\n      <td>1.25</td>\n    </tr>\n    <tr>\n      <th>15</th>\n      <td>(eggs)</td>\n      <td>(kidney beans, onion)</td>\n      <td>0.6</td>\n      <td>0.75</td>\n      <td>1.25</td>\n    </tr>\n  </tbody>\n</table>\n</div>"
     },
     "execution_count": 9,
     "metadata": {},
     "output_type": "execute_result"
    }
   ],
   "source": [
    "# simplify the dataframe\n",
    "result_simplify = result[['antecedents', 'consequents', 'support', 'confidence', 'lift']]\n",
    "result_simplify"
   ],
   "metadata": {
    "collapsed": false,
    "pycharm": {
     "name": "#%%\n"
    }
   }
  }
 ],
 "metadata": {
  "kernelspec": {
   "display_name": "Python 3",
   "language": "python",
   "name": "python3"
  },
  "language_info": {
   "codemirror_mode": {
    "name": "ipython",
    "version": 2
   },
   "file_extension": ".py",
   "mimetype": "text/x-python",
   "name": "python",
   "nbconvert_exporter": "python",
   "pygments_lexer": "ipython2",
   "version": "2.7.6"
  }
 },
 "nbformat": 4,
 "nbformat_minor": 0
}