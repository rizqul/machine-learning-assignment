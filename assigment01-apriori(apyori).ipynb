{
 "cells": [
  {
   "cell_type": "markdown",
   "source": [
    "# Tugas01 - Apriori Algorithm\n",
    "### A. Muhammad Risqullah Awaluddin"
   ],
   "metadata": {
    "collapsed": false,
    "pycharm": {
     "name": "#%% md\n"
    }
   }
  },
  {
   "cell_type": "code",
   "execution_count": 12,
   "metadata": {
    "collapsed": true
   },
   "outputs": [],
   "source": [
    "import pandas as pd\n",
    "import numpy as np\n",
    "import matplotlib.pyplot as plt\n",
    "from apyori import apriori"
   ]
  },
  {
   "cell_type": "code",
   "execution_count": 17,
   "outputs": [
    {
     "data": {
      "text/plain": "           shrimp    almonds     avocado    vegetables mix green grapes  \\\n0         burgers  meatballs        eggs               NaN          NaN   \n1         chutney        NaN         NaN               NaN          NaN   \n2          turkey    avocado         NaN               NaN          NaN   \n3   mineral water       milk  energy bar  whole wheat rice    green tea   \n4  low fat yogurt        NaN         NaN               NaN          NaN   \n\n  whole weat flour yams cottage cheese energy drink tomato juice  \\\n0              NaN  NaN            NaN          NaN          NaN   \n1              NaN  NaN            NaN          NaN          NaN   \n2              NaN  NaN            NaN          NaN          NaN   \n3              NaN  NaN            NaN          NaN          NaN   \n4              NaN  NaN            NaN          NaN          NaN   \n\n  low fat yogurt green tea honey salad mineral water salmon antioxydant juice  \\\n0            NaN       NaN   NaN   NaN           NaN    NaN               NaN   \n1            NaN       NaN   NaN   NaN           NaN    NaN               NaN   \n2            NaN       NaN   NaN   NaN           NaN    NaN               NaN   \n3            NaN       NaN   NaN   NaN           NaN    NaN               NaN   \n4            NaN       NaN   NaN   NaN           NaN    NaN               NaN   \n\n  frozen smoothie spinach  olive oil  \n0             NaN     NaN        NaN  \n1             NaN     NaN        NaN  \n2             NaN     NaN        NaN  \n3             NaN     NaN        NaN  \n4             NaN     NaN        NaN  ",
      "text/html": "<div>\n<style scoped>\n    .dataframe tbody tr th:only-of-type {\n        vertical-align: middle;\n    }\n\n    .dataframe tbody tr th {\n        vertical-align: top;\n    }\n\n    .dataframe thead th {\n        text-align: right;\n    }\n</style>\n<table border=\"1\" class=\"dataframe\">\n  <thead>\n    <tr style=\"text-align: right;\">\n      <th></th>\n      <th>shrimp</th>\n      <th>almonds</th>\n      <th>avocado</th>\n      <th>vegetables mix</th>\n      <th>green grapes</th>\n      <th>whole weat flour</th>\n      <th>yams</th>\n      <th>cottage cheese</th>\n      <th>energy drink</th>\n      <th>tomato juice</th>\n      <th>low fat yogurt</th>\n      <th>green tea</th>\n      <th>honey</th>\n      <th>salad</th>\n      <th>mineral water</th>\n      <th>salmon</th>\n      <th>antioxydant juice</th>\n      <th>frozen smoothie</th>\n      <th>spinach</th>\n      <th>olive oil</th>\n    </tr>\n  </thead>\n  <tbody>\n    <tr>\n      <th>0</th>\n      <td>burgers</td>\n      <td>meatballs</td>\n      <td>eggs</td>\n      <td>NaN</td>\n      <td>NaN</td>\n      <td>NaN</td>\n      <td>NaN</td>\n      <td>NaN</td>\n      <td>NaN</td>\n      <td>NaN</td>\n      <td>NaN</td>\n      <td>NaN</td>\n      <td>NaN</td>\n      <td>NaN</td>\n      <td>NaN</td>\n      <td>NaN</td>\n      <td>NaN</td>\n      <td>NaN</td>\n      <td>NaN</td>\n      <td>NaN</td>\n    </tr>\n    <tr>\n      <th>1</th>\n      <td>chutney</td>\n      <td>NaN</td>\n      <td>NaN</td>\n      <td>NaN</td>\n      <td>NaN</td>\n      <td>NaN</td>\n      <td>NaN</td>\n      <td>NaN</td>\n      <td>NaN</td>\n      <td>NaN</td>\n      <td>NaN</td>\n      <td>NaN</td>\n      <td>NaN</td>\n      <td>NaN</td>\n      <td>NaN</td>\n      <td>NaN</td>\n      <td>NaN</td>\n      <td>NaN</td>\n      <td>NaN</td>\n      <td>NaN</td>\n    </tr>\n    <tr>\n      <th>2</th>\n      <td>turkey</td>\n      <td>avocado</td>\n      <td>NaN</td>\n      <td>NaN</td>\n      <td>NaN</td>\n      <td>NaN</td>\n      <td>NaN</td>\n      <td>NaN</td>\n      <td>NaN</td>\n      <td>NaN</td>\n      <td>NaN</td>\n      <td>NaN</td>\n      <td>NaN</td>\n      <td>NaN</td>\n      <td>NaN</td>\n      <td>NaN</td>\n      <td>NaN</td>\n      <td>NaN</td>\n      <td>NaN</td>\n      <td>NaN</td>\n    </tr>\n    <tr>\n      <th>3</th>\n      <td>mineral water</td>\n      <td>milk</td>\n      <td>energy bar</td>\n      <td>whole wheat rice</td>\n      <td>green tea</td>\n      <td>NaN</td>\n      <td>NaN</td>\n      <td>NaN</td>\n      <td>NaN</td>\n      <td>NaN</td>\n      <td>NaN</td>\n      <td>NaN</td>\n      <td>NaN</td>\n      <td>NaN</td>\n      <td>NaN</td>\n      <td>NaN</td>\n      <td>NaN</td>\n      <td>NaN</td>\n      <td>NaN</td>\n      <td>NaN</td>\n    </tr>\n    <tr>\n      <th>4</th>\n      <td>low fat yogurt</td>\n      <td>NaN</td>\n      <td>NaN</td>\n      <td>NaN</td>\n      <td>NaN</td>\n      <td>NaN</td>\n      <td>NaN</td>\n      <td>NaN</td>\n      <td>NaN</td>\n      <td>NaN</td>\n      <td>NaN</td>\n      <td>NaN</td>\n      <td>NaN</td>\n      <td>NaN</td>\n      <td>NaN</td>\n      <td>NaN</td>\n      <td>NaN</td>\n      <td>NaN</td>\n      <td>NaN</td>\n      <td>NaN</td>\n    </tr>\n  </tbody>\n</table>\n</div>"
     },
     "execution_count": 17,
     "metadata": {},
     "output_type": "execute_result"
    }
   ],
   "source": [
    "dataset = pd.read_csv(\"Datasets/store_data.csv\")\n",
    "dataset.head()"
   ],
   "metadata": {
    "collapsed": false,
    "pycharm": {
     "name": "#%%\n"
    }
   }
  },
  {
   "cell_type": "code",
   "execution_count": 18,
   "outputs": [
    {
     "name": "stdout",
     "output_type": "stream",
     "text": [
      "<class 'pandas.core.frame.DataFrame'>\n"
     ]
    }
   ],
   "source": [
    "print(type(dataset))"
   ],
   "metadata": {
    "collapsed": false,
    "pycharm": {
     "name": "#%%\n"
    }
   }
  },
  {
   "cell_type": "code",
   "execution_count": 19,
   "outputs": [],
   "source": [
    "transaction = []\n",
    "for i in range(0, 7500):\n",
    "    transaction.append([str(dataset.values[i,j]) for j in range (0, 20)])\n",
    "\n",
    "association_rules = apriori(transaction, min_support=0.0045, min_confidence=0.2, min_lift=3, min_length=2)\n",
    "association_results = list(association_rules)"
   ],
   "metadata": {
    "collapsed": false,
    "pycharm": {
     "name": "#%%\n"
    }
   }
  },
  {
   "cell_type": "code",
   "execution_count": 20,
   "outputs": [
    {
     "name": "stdout",
     "output_type": "stream",
     "text": [
      "48\n",
      "RelationRecord(items=frozenset({'chicken', 'light cream'}), support=0.004533333333333334, ordered_statistics=[OrderedStatistic(items_base=frozenset({'light cream'}), items_add=frozenset({'chicken'}), confidence=0.2905982905982906, lift=4.843304843304844)])\n"
     ]
    }
   ],
   "source": [
    "print(len(association_results))\n",
    "print(association_results[0])"
   ],
   "metadata": {
    "collapsed": false,
    "pycharm": {
     "name": "#%%\n"
    }
   }
  },
  {
   "cell_type": "code",
   "execution_count": 21,
   "outputs": [
    {
     "name": "stdout",
     "output_type": "stream",
     "text": [
      "Rule : chicken -> light cream\n",
      "Support : 0.004533333333333334\n",
      "Confidece : 0.2905982905982906\n",
      "Lift : 4.843304843304844\n",
      "===========================================\n",
      "Rule : mushroom cream sauce -> escalope\n",
      "Support : 0.005733333333333333\n",
      "Confidece : 0.30069930069930073\n",
      "Lift : 3.7903273197390845\n",
      "===========================================\n",
      "Rule : pasta -> escalope\n",
      "Support : 0.005866666666666667\n",
      "Confidece : 0.37288135593220345\n",
      "Lift : 4.700185158809287\n",
      "===========================================\n",
      "Rule : herb & pepper -> ground beef\n",
      "Support : 0.016\n",
      "Confidece : 0.3234501347708895\n",
      "Lift : 3.2915549671393096\n",
      "===========================================\n",
      "Rule : tomato sauce -> ground beef\n",
      "Support : 0.005333333333333333\n",
      "Confidece : 0.37735849056603776\n",
      "Lift : 3.840147461662528\n",
      "===========================================\n",
      "Rule : olive oil -> whole wheat pasta\n",
      "Support : 0.008\n",
      "Confidece : 0.2714932126696833\n",
      "Lift : 4.130221288078346\n",
      "===========================================\n",
      "Rule : pasta -> shrimp\n",
      "Support : 0.005066666666666666\n",
      "Confidece : 0.3220338983050848\n",
      "Lift : 4.514493901473151\n",
      "===========================================\n",
      "Rule : chicken -> nan\n",
      "Support : 0.004533333333333334\n",
      "Confidece : 0.2905982905982906\n",
      "Lift : 4.843304843304844\n",
      "===========================================\n",
      "Rule : frozen vegetables -> chocolate\n",
      "Support : 0.005333333333333333\n",
      "Confidece : 0.23255813953488372\n",
      "Lift : 3.260160834601174\n",
      "===========================================\n",
      "Rule : spaghetti -> ground beef\n",
      "Support : 0.0048\n",
      "Confidece : 0.5714285714285714\n",
      "Lift : 3.281557646029315\n",
      "===========================================\n",
      "Rule : mushroom cream sauce -> nan\n",
      "Support : 0.005733333333333333\n",
      "Confidece : 0.30069930069930073\n",
      "Lift : 3.7903273197390845\n",
      "===========================================\n",
      "Rule : nan -> pasta\n",
      "Support : 0.005866666666666667\n",
      "Confidece : 0.37288135593220345\n",
      "Lift : 4.700185158809287\n",
      "===========================================\n",
      "Rule : spaghetti -> frozen vegetables\n",
      "Support : 0.008666666666666666\n",
      "Confidece : 0.3110047846889952\n",
      "Lift : 3.164906221394116\n",
      "===========================================\n",
      "Rule : milk -> frozen vegetables\n",
      "Support : 0.0048\n",
      "Confidece : 0.20338983050847456\n",
      "Lift : 3.094165778526489\n",
      "===========================================\n",
      "Rule : mineral water -> frozen vegetables\n",
      "Support : 0.0072\n",
      "Confidece : 0.3068181818181818\n",
      "Lift : 3.2183725365543547\n",
      "===========================================\n",
      "Rule : olive oil -> frozen vegetables\n",
      "Support : 0.005733333333333333\n",
      "Confidece : 0.20574162679425836\n",
      "Lift : 3.1299436124887174\n",
      "===========================================\n",
      "Rule : spaghetti -> frozen vegetables\n",
      "Support : 0.006\n",
      "Confidece : 0.21531100478468898\n",
      "Lift : 3.0183785717479763\n",
      "===========================================\n",
      "Rule : frozen vegetables -> spaghetti\n",
      "Support : 0.006666666666666667\n",
      "Confidece : 0.23923444976076555\n",
      "Lift : 3.497579674864993\n",
      "===========================================\n",
      "Rule : spaghetti -> grated cheese\n",
      "Support : 0.005333333333333333\n",
      "Confidece : 0.3225806451612903\n",
      "Lift : 3.282706701098612\n",
      "===========================================\n",
      "Rule : herb & pepper -> mineral water\n",
      "Support : 0.006666666666666667\n",
      "Confidece : 0.390625\n",
      "Lift : 3.975152645861601\n",
      "===========================================\n",
      "Rule : herb & pepper -> nan\n",
      "Support : 0.016\n",
      "Confidece : 0.3234501347708895\n",
      "Lift : 3.2915549671393096\n",
      "===========================================\n",
      "Rule : herb & pepper -> spaghetti\n",
      "Support : 0.0064\n",
      "Confidece : 0.3934426229508197\n",
      "Lift : 4.003825878061259\n",
      "===========================================\n",
      "Rule : milk -> olive oil\n",
      "Support : 0.004933333333333333\n",
      "Confidece : 0.22424242424242424\n",
      "Lift : 3.411395906324912\n",
      "===========================================\n",
      "Rule : nan -> tomato sauce\n",
      "Support : 0.005333333333333333\n",
      "Confidece : 0.37735849056603776\n",
      "Lift : 3.840147461662528\n",
      "===========================================\n",
      "Rule : spaghetti -> shrimp\n",
      "Support : 0.006\n",
      "Confidece : 0.5232558139534884\n",
      "Lift : 3.004914704939635\n",
      "===========================================\n",
      "Rule : milk -> olive oil\n",
      "Support : 0.0072\n",
      "Confidece : 0.20300751879699247\n",
      "Lift : 3.0883496774390333\n",
      "===========================================\n",
      "Rule : mineral water -> soup\n",
      "Support : 0.0052\n",
      "Confidece : 0.2254335260115607\n",
      "Lift : 3.4295161157945335\n",
      "===========================================\n",
      "Rule : olive oil -> whole wheat pasta\n",
      "Support : 0.008\n",
      "Confidece : 0.2714932126696833\n",
      "Lift : 4.130221288078346\n",
      "===========================================\n",
      "Rule : nan -> pasta\n",
      "Support : 0.005066666666666666\n",
      "Confidece : 0.3220338983050848\n",
      "Lift : 4.514493901473151\n",
      "===========================================\n",
      "Rule : olive oil -> pancakes\n",
      "Support : 0.005066666666666666\n",
      "Confidece : 0.20105820105820105\n",
      "Lift : 3.0586947422647217\n",
      "===========================================\n",
      "Rule : nan -> frozen vegetables\n",
      "Support : 0.005333333333333333\n",
      "Confidece : 0.23255813953488372\n",
      "Lift : 3.260160834601174\n",
      "===========================================\n",
      "Rule : spaghetti -> nan\n",
      "Support : 0.0048\n",
      "Confidece : 0.5714285714285714\n",
      "Lift : 3.281557646029315\n",
      "===========================================\n",
      "Rule : spaghetti -> nan\n",
      "Support : 0.008666666666666666\n",
      "Confidece : 0.3110047846889952\n",
      "Lift : 3.164906221394116\n",
      "===========================================\n",
      "Rule : milk -> frozen vegetables\n",
      "Support : 0.004533333333333334\n",
      "Confidece : 0.28813559322033905\n",
      "Lift : 3.0224013274860737\n",
      "===========================================\n",
      "Rule : milk -> nan\n",
      "Support : 0.0048\n",
      "Confidece : 0.20338983050847456\n",
      "Lift : 3.094165778526489\n",
      "===========================================\n",
      "Rule : mineral water -> nan\n",
      "Support : 0.0072\n",
      "Confidece : 0.3068181818181818\n",
      "Lift : 3.2183725365543547\n",
      "===========================================\n",
      "Rule : olive oil -> nan\n",
      "Support : 0.005733333333333333\n",
      "Confidece : 0.20574162679425836\n",
      "Lift : 3.1299436124887174\n",
      "===========================================\n",
      "Rule : spaghetti -> nan\n",
      "Support : 0.006\n",
      "Confidece : 0.21531100478468898\n",
      "Lift : 3.0183785717479763\n",
      "===========================================\n",
      "Rule : nan -> frozen vegetables\n",
      "Support : 0.006666666666666667\n",
      "Confidece : 0.23923444976076555\n",
      "Lift : 3.497579674864993\n",
      "===========================================\n",
      "Rule : spaghetti -> nan\n",
      "Support : 0.005333333333333333\n",
      "Confidece : 0.3225806451612903\n",
      "Lift : 3.282706701098612\n",
      "===========================================\n",
      "Rule : herb & pepper -> nan\n",
      "Support : 0.006666666666666667\n",
      "Confidece : 0.390625\n",
      "Lift : 3.975152645861601\n",
      "===========================================\n",
      "Rule : herb & pepper -> spaghetti\n",
      "Support : 0.0064\n",
      "Confidece : 0.3934426229508197\n",
      "Lift : 4.003825878061259\n",
      "===========================================\n",
      "Rule : milk -> nan\n",
      "Support : 0.004933333333333333\n",
      "Confidece : 0.22424242424242424\n",
      "Lift : 3.411395906324912\n",
      "===========================================\n",
      "Rule : spaghetti -> nan\n",
      "Support : 0.006\n",
      "Confidece : 0.5232558139534884\n",
      "Lift : 3.004914704939635\n",
      "===========================================\n",
      "Rule : milk -> nan\n",
      "Support : 0.0072\n",
      "Confidece : 0.20300751879699247\n",
      "Lift : 3.0883496774390333\n",
      "===========================================\n",
      "Rule : mineral water -> soup\n",
      "Support : 0.0052\n",
      "Confidece : 0.2254335260115607\n",
      "Lift : 3.4295161157945335\n",
      "===========================================\n",
      "Rule : olive oil -> nan\n",
      "Support : 0.005066666666666666\n",
      "Confidece : 0.20105820105820105\n",
      "Lift : 3.0586947422647217\n",
      "===========================================\n",
      "Rule : mineral water -> frozen vegetables\n",
      "Support : 0.004533333333333334\n",
      "Confidece : 0.28813559322033905\n",
      "Lift : 3.0224013274860737\n",
      "===========================================\n"
     ]
    }
   ],
   "source": [
    "for item in association_results:\n",
    "    pair = item[0]\n",
    "    items = [x for x in pair]\n",
    "    print(\"Rule : \" + items[0] +  \" -> \" + items[1])\n",
    "    print(\"Support : \" + str(item[1]))\n",
    "    print(\"Confidece : \" + str(item[2][0][2]))\n",
    "    print(\"Lift : \" + str(item[2][0][3]))\n",
    "    print(\"===========================================\")"
   ],
   "metadata": {
    "collapsed": false,
    "pycharm": {
     "name": "#%%\n"
    }
   }
  },
  {
   "cell_type": "code",
   "execution_count": null,
   "outputs": [],
   "source": [],
   "metadata": {
    "collapsed": false,
    "pycharm": {
     "name": "#%%\n"
    }
   }
  }
 ],
 "metadata": {
  "kernelspec": {
   "display_name": "Python 3",
   "language": "python",
   "name": "python3"
  },
  "language_info": {
   "codemirror_mode": {
    "name": "ipython",
    "version": 2
   },
   "file_extension": ".py",
   "mimetype": "text/x-python",
   "name": "python",
   "nbconvert_exporter": "python",
   "pygments_lexer": "ipython2",
   "version": "2.7.6"
  }
 },
 "nbformat": 4,
 "nbformat_minor": 0
}