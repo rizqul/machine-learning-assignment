{
 "cells": [
  {
   "cell_type": "code",
   "execution_count": 8,
   "metadata": {
    "collapsed": true
   },
   "outputs": [],
   "source": [
    "import pandas as pd\n",
    "from mlxtend.frequent_patterns import apriori, association_rules\n",
    "from mlxtend.preprocessing import transactionencoder"
   ]
  },
  {
   "cell_type": "code",
   "execution_count": 3,
   "outputs": [
    {
     "data": {
      "text/plain": "   Customer_ID  No_Transaksi     Tanggal  \\\n0        10253        548252   6/14/2017   \n1        10104        548253  12/25/2017   \n2        10271        548530  12/10/2017   \n3        10257        548436   5/21/2018   \n4        10281        548442    1/2/2018   \n\n                                         Items  \n0                Telur, Minyak, Permen, Tepung  \n1                 Deterjen, Kecap, Susu, Sabun  \n2  Telur, Minyak, Kecap, Snack, Permen, Tepung  \n3                       Deterjen, Kecap, Sabun  \n4  Telur, Minyak, Kecap, Snack, Permen, Tepung  ",
      "text/html": "<div>\n<style scoped>\n    .dataframe tbody tr th:only-of-type {\n        vertical-align: middle;\n    }\n\n    .dataframe tbody tr th {\n        vertical-align: top;\n    }\n\n    .dataframe thead th {\n        text-align: right;\n    }\n</style>\n<table border=\"1\" class=\"dataframe\">\n  <thead>\n    <tr style=\"text-align: right;\">\n      <th></th>\n      <th>Customer_ID</th>\n      <th>No_Transaksi</th>\n      <th>Tanggal</th>\n      <th>Items</th>\n    </tr>\n  </thead>\n  <tbody>\n    <tr>\n      <th>0</th>\n      <td>10253</td>\n      <td>548252</td>\n      <td>6/14/2017</td>\n      <td>Telur, Minyak, Permen, Tepung</td>\n    </tr>\n    <tr>\n      <th>1</th>\n      <td>10104</td>\n      <td>548253</td>\n      <td>12/25/2017</td>\n      <td>Deterjen, Kecap, Susu, Sabun</td>\n    </tr>\n    <tr>\n      <th>2</th>\n      <td>10271</td>\n      <td>548530</td>\n      <td>12/10/2017</td>\n      <td>Telur, Minyak, Kecap, Snack, Permen, Tepung</td>\n    </tr>\n    <tr>\n      <th>3</th>\n      <td>10257</td>\n      <td>548436</td>\n      <td>5/21/2018</td>\n      <td>Deterjen, Kecap, Sabun</td>\n    </tr>\n    <tr>\n      <th>4</th>\n      <td>10281</td>\n      <td>548442</td>\n      <td>1/2/2018</td>\n      <td>Telur, Minyak, Kecap, Snack, Permen, Tepung</td>\n    </tr>\n  </tbody>\n</table>\n</div>"
     },
     "execution_count": 3,
     "metadata": {},
     "output_type": "execute_result"
    }
   ],
   "source": [
    "# read the dataset\n",
    "data_raw = pd.read_csv(\"Datasets/transaksi_belanja_supermarket.csv\")\n",
    "data_raw.head()"
   ],
   "metadata": {
    "collapsed": false,
    "pycharm": {
     "name": "#%%\n"
    }
   }
  },
  {
   "cell_type": "code",
   "execution_count": 17,
   "outputs": [],
   "source": [
    "# take the last column\n",
    "# convert to an array\n",
    "data = []\n",
    "for i in range(0, 350):\n",
    "    data.append(str(data_raw.values[i,3]).split(\", \"))"
   ],
   "metadata": {
    "collapsed": false,
    "pycharm": {
     "name": "#%%\n"
    }
   }
  },
  {
   "cell_type": "code",
   "execution_count": 10,
   "outputs": [],
   "source": [
    "# fix data formating before convert into dataframe (true/false table)\n",
    "te = transactionencoder.TransactionEncoder()\n",
    "te_ary = te.fit(data).transform(data)"
   ],
   "metadata": {
    "collapsed": false,
    "pycharm": {
     "name": "#%%\n"
    }
   }
  },
  {
   "cell_type": "code",
   "execution_count": 11,
   "outputs": [
    {
     "data": {
      "text/plain": "   Deterjen  Kecap  Minyak  Permen  Sabun  Snack   Susu  Telur  Tepung\n0     False  False    True    True  False  False  False   True    True\n1      True   True   False   False   True  False   True  False   False\n2     False   True    True    True  False   True  False   True    True\n3      True   True   False   False   True  False  False  False   False\n4     False   True    True    True  False   True  False   True    True",
      "text/html": "<div>\n<style scoped>\n    .dataframe tbody tr th:only-of-type {\n        vertical-align: middle;\n    }\n\n    .dataframe tbody tr th {\n        vertical-align: top;\n    }\n\n    .dataframe thead th {\n        text-align: right;\n    }\n</style>\n<table border=\"1\" class=\"dataframe\">\n  <thead>\n    <tr style=\"text-align: right;\">\n      <th></th>\n      <th>Deterjen</th>\n      <th>Kecap</th>\n      <th>Minyak</th>\n      <th>Permen</th>\n      <th>Sabun</th>\n      <th>Snack</th>\n      <th>Susu</th>\n      <th>Telur</th>\n      <th>Tepung</th>\n    </tr>\n  </thead>\n  <tbody>\n    <tr>\n      <th>0</th>\n      <td>False</td>\n      <td>False</td>\n      <td>True</td>\n      <td>True</td>\n      <td>False</td>\n      <td>False</td>\n      <td>False</td>\n      <td>True</td>\n      <td>True</td>\n    </tr>\n    <tr>\n      <th>1</th>\n      <td>True</td>\n      <td>True</td>\n      <td>False</td>\n      <td>False</td>\n      <td>True</td>\n      <td>False</td>\n      <td>True</td>\n      <td>False</td>\n      <td>False</td>\n    </tr>\n    <tr>\n      <th>2</th>\n      <td>False</td>\n      <td>True</td>\n      <td>True</td>\n      <td>True</td>\n      <td>False</td>\n      <td>True</td>\n      <td>False</td>\n      <td>True</td>\n      <td>True</td>\n    </tr>\n    <tr>\n      <th>3</th>\n      <td>True</td>\n      <td>True</td>\n      <td>False</td>\n      <td>False</td>\n      <td>True</td>\n      <td>False</td>\n      <td>False</td>\n      <td>False</td>\n      <td>False</td>\n    </tr>\n    <tr>\n      <th>4</th>\n      <td>False</td>\n      <td>True</td>\n      <td>True</td>\n      <td>True</td>\n      <td>False</td>\n      <td>True</td>\n      <td>False</td>\n      <td>True</td>\n      <td>True</td>\n    </tr>\n  </tbody>\n</table>\n</div>"
     },
     "execution_count": 11,
     "metadata": {},
     "output_type": "execute_result"
    }
   ],
   "source": [
    "# convert raw data into data frame\n",
    "dataframe = pd.DataFrame(te_ary, columns=te.columns_)\n",
    "dataframe.head()"
   ],
   "metadata": {
    "collapsed": false,
    "pycharm": {
     "name": "#%%\n"
    }
   }
  },
  {
   "cell_type": "code",
   "execution_count": 14,
   "outputs": [
    {
     "data": {
      "text/plain": "      support                                itemsets\n0    0.468571                              (Deterjen)\n1    0.520000                                 (Kecap)\n2    0.662857                                (Minyak)\n3    0.502857                                (Permen)\n4    0.494286                                 (Sabun)\n..        ...                                     ...\n203  0.128571  (Telur, Sabun, Permen, Tepung, Minyak)\n204  0.142857  (Telur, Snack, Permen, Tepung, Minyak)\n205  0.131429   (Susu, Telur, Permen, Tepung, Minyak)\n206  0.117143   (Telur, Snack, Sabun, Tepung, Minyak)\n207  0.117143    (Susu, Telur, Sabun, Tepung, Minyak)\n\n[208 rows x 2 columns]",
      "text/html": "<div>\n<style scoped>\n    .dataframe tbody tr th:only-of-type {\n        vertical-align: middle;\n    }\n\n    .dataframe tbody tr th {\n        vertical-align: top;\n    }\n\n    .dataframe thead th {\n        text-align: right;\n    }\n</style>\n<table border=\"1\" class=\"dataframe\">\n  <thead>\n    <tr style=\"text-align: right;\">\n      <th></th>\n      <th>support</th>\n      <th>itemsets</th>\n    </tr>\n  </thead>\n  <tbody>\n    <tr>\n      <th>0</th>\n      <td>0.468571</td>\n      <td>(Deterjen)</td>\n    </tr>\n    <tr>\n      <th>1</th>\n      <td>0.520000</td>\n      <td>(Kecap)</td>\n    </tr>\n    <tr>\n      <th>2</th>\n      <td>0.662857</td>\n      <td>(Minyak)</td>\n    </tr>\n    <tr>\n      <th>3</th>\n      <td>0.502857</td>\n      <td>(Permen)</td>\n    </tr>\n    <tr>\n      <th>4</th>\n      <td>0.494286</td>\n      <td>(Sabun)</td>\n    </tr>\n    <tr>\n      <th>...</th>\n      <td>...</td>\n      <td>...</td>\n    </tr>\n    <tr>\n      <th>203</th>\n      <td>0.128571</td>\n      <td>(Telur, Sabun, Permen, Tepung, Minyak)</td>\n    </tr>\n    <tr>\n      <th>204</th>\n      <td>0.142857</td>\n      <td>(Telur, Snack, Permen, Tepung, Minyak)</td>\n    </tr>\n    <tr>\n      <th>205</th>\n      <td>0.131429</td>\n      <td>(Susu, Telur, Permen, Tepung, Minyak)</td>\n    </tr>\n    <tr>\n      <th>206</th>\n      <td>0.117143</td>\n      <td>(Telur, Snack, Sabun, Tepung, Minyak)</td>\n    </tr>\n    <tr>\n      <th>207</th>\n      <td>0.117143</td>\n      <td>(Susu, Telur, Sabun, Tepung, Minyak)</td>\n    </tr>\n  </tbody>\n</table>\n<p>208 rows × 2 columns</p>\n</div>"
     },
     "execution_count": 14,
     "metadata": {},
     "output_type": "execute_result"
    }
   ],
   "source": [
    "# search the transaction with support >= 0.6\n",
    "frequent_itemset = apriori(dataframe, min_support=0.1, use_colnames=True)\n",
    "frequent_itemset"
   ],
   "metadata": {
    "collapsed": false,
    "pycharm": {
     "name": "#%%\n"
    }
   }
  },
  {
   "cell_type": "code",
   "execution_count": 15,
   "outputs": [
    {
     "data": {
      "text/plain": "                        antecedents       consequents  antecedent support  \\\n0                        (Deterjen)           (Kecap)            0.468571   \n1                           (Kecap)        (Deterjen)            0.520000   \n2                        (Deterjen)          (Minyak)            0.468571   \n3                        (Deterjen)          (Permen)            0.468571   \n4                          (Permen)        (Deterjen)            0.502857   \n..                              ...               ...                 ...   \n670  (Minyak, Sabun, Tepung, Telur)            (Susu)            0.234286   \n671            (Susu, Sabun, Telur)  (Minyak, Tepung)            0.165714   \n672           (Susu, Sabun, Tepung)   (Minyak, Telur)            0.157143   \n673           (Susu, Minyak, Sabun)   (Tepung, Telur)            0.157143   \n674          (Susu, Minyak, Tepung)    (Sabun, Telur)            0.234286   \n\n     consequent support   support  confidence      lift  leverage  conviction  \n0              0.520000  0.265714    0.567073  1.090525  0.022057    1.108732  \n1              0.468571  0.265714    0.510989  1.090525  0.022057    1.086742  \n2              0.662857  0.305714    0.652439  0.984283 -0.004882    0.970025  \n3              0.502857  0.251429    0.536585  1.067073  0.015804    1.072782  \n4              0.468571  0.251429    0.500000  1.067073  0.015804    1.062857  \n..                  ...       ...         ...       ...       ...         ...  \n670            0.462857  0.117143    0.500000  1.080247  0.008702    1.074286  \n671            0.525714  0.117143    0.706897  1.344640  0.030024    1.618151  \n672            0.574286  0.117143    0.745455  1.298055  0.026898    1.672449  \n673            0.565714  0.117143    0.745455  1.317723  0.028245    1.706122  \n674            0.351429  0.117143    0.500000  1.422764  0.034808    1.297143  \n\n[675 rows x 9 columns]",
      "text/html": "<div>\n<style scoped>\n    .dataframe tbody tr th:only-of-type {\n        vertical-align: middle;\n    }\n\n    .dataframe tbody tr th {\n        vertical-align: top;\n    }\n\n    .dataframe thead th {\n        text-align: right;\n    }\n</style>\n<table border=\"1\" class=\"dataframe\">\n  <thead>\n    <tr style=\"text-align: right;\">\n      <th></th>\n      <th>antecedents</th>\n      <th>consequents</th>\n      <th>antecedent support</th>\n      <th>consequent support</th>\n      <th>support</th>\n      <th>confidence</th>\n      <th>lift</th>\n      <th>leverage</th>\n      <th>conviction</th>\n    </tr>\n  </thead>\n  <tbody>\n    <tr>\n      <th>0</th>\n      <td>(Deterjen)</td>\n      <td>(Kecap)</td>\n      <td>0.468571</td>\n      <td>0.520000</td>\n      <td>0.265714</td>\n      <td>0.567073</td>\n      <td>1.090525</td>\n      <td>0.022057</td>\n      <td>1.108732</td>\n    </tr>\n    <tr>\n      <th>1</th>\n      <td>(Kecap)</td>\n      <td>(Deterjen)</td>\n      <td>0.520000</td>\n      <td>0.468571</td>\n      <td>0.265714</td>\n      <td>0.510989</td>\n      <td>1.090525</td>\n      <td>0.022057</td>\n      <td>1.086742</td>\n    </tr>\n    <tr>\n      <th>2</th>\n      <td>(Deterjen)</td>\n      <td>(Minyak)</td>\n      <td>0.468571</td>\n      <td>0.662857</td>\n      <td>0.305714</td>\n      <td>0.652439</td>\n      <td>0.984283</td>\n      <td>-0.004882</td>\n      <td>0.970025</td>\n    </tr>\n    <tr>\n      <th>3</th>\n      <td>(Deterjen)</td>\n      <td>(Permen)</td>\n      <td>0.468571</td>\n      <td>0.502857</td>\n      <td>0.251429</td>\n      <td>0.536585</td>\n      <td>1.067073</td>\n      <td>0.015804</td>\n      <td>1.072782</td>\n    </tr>\n    <tr>\n      <th>4</th>\n      <td>(Permen)</td>\n      <td>(Deterjen)</td>\n      <td>0.502857</td>\n      <td>0.468571</td>\n      <td>0.251429</td>\n      <td>0.500000</td>\n      <td>1.067073</td>\n      <td>0.015804</td>\n      <td>1.062857</td>\n    </tr>\n    <tr>\n      <th>...</th>\n      <td>...</td>\n      <td>...</td>\n      <td>...</td>\n      <td>...</td>\n      <td>...</td>\n      <td>...</td>\n      <td>...</td>\n      <td>...</td>\n      <td>...</td>\n    </tr>\n    <tr>\n      <th>670</th>\n      <td>(Minyak, Sabun, Tepung, Telur)</td>\n      <td>(Susu)</td>\n      <td>0.234286</td>\n      <td>0.462857</td>\n      <td>0.117143</td>\n      <td>0.500000</td>\n      <td>1.080247</td>\n      <td>0.008702</td>\n      <td>1.074286</td>\n    </tr>\n    <tr>\n      <th>671</th>\n      <td>(Susu, Sabun, Telur)</td>\n      <td>(Minyak, Tepung)</td>\n      <td>0.165714</td>\n      <td>0.525714</td>\n      <td>0.117143</td>\n      <td>0.706897</td>\n      <td>1.344640</td>\n      <td>0.030024</td>\n      <td>1.618151</td>\n    </tr>\n    <tr>\n      <th>672</th>\n      <td>(Susu, Sabun, Tepung)</td>\n      <td>(Minyak, Telur)</td>\n      <td>0.157143</td>\n      <td>0.574286</td>\n      <td>0.117143</td>\n      <td>0.745455</td>\n      <td>1.298055</td>\n      <td>0.026898</td>\n      <td>1.672449</td>\n    </tr>\n    <tr>\n      <th>673</th>\n      <td>(Susu, Minyak, Sabun)</td>\n      <td>(Tepung, Telur)</td>\n      <td>0.157143</td>\n      <td>0.565714</td>\n      <td>0.117143</td>\n      <td>0.745455</td>\n      <td>1.317723</td>\n      <td>0.028245</td>\n      <td>1.706122</td>\n    </tr>\n    <tr>\n      <th>674</th>\n      <td>(Susu, Minyak, Tepung)</td>\n      <td>(Sabun, Telur)</td>\n      <td>0.234286</td>\n      <td>0.351429</td>\n      <td>0.117143</td>\n      <td>0.500000</td>\n      <td>1.422764</td>\n      <td>0.034808</td>\n      <td>1.297143</td>\n    </tr>\n  </tbody>\n</table>\n<p>675 rows × 9 columns</p>\n</div>"
     },
     "execution_count": 15,
     "metadata": {},
     "output_type": "execute_result"
    }
   ],
   "source": [
    "# filter the transaction with confidence >= 0.5\n",
    "# show the dataframe\n",
    "result = association_rules(frequent_itemset, metric=\"confidence\", min_threshold=0.5)\n",
    "result"
   ],
   "metadata": {
    "collapsed": false,
    "pycharm": {
     "name": "#%%\n"
    }
   }
  },
  {
   "cell_type": "code",
   "execution_count": 16,
   "outputs": [
    {
     "data": {
      "text/plain": "                        antecedents       consequents   support  confidence  \\\n0                        (Deterjen)           (Kecap)  0.265714    0.567073   \n1                           (Kecap)        (Deterjen)  0.265714    0.510989   \n2                        (Deterjen)          (Minyak)  0.305714    0.652439   \n3                        (Deterjen)          (Permen)  0.251429    0.536585   \n4                          (Permen)        (Deterjen)  0.251429    0.500000   \n..                              ...               ...       ...         ...   \n670  (Minyak, Sabun, Tepung, Telur)            (Susu)  0.117143    0.500000   \n671            (Susu, Sabun, Telur)  (Minyak, Tepung)  0.117143    0.706897   \n672           (Susu, Sabun, Tepung)   (Minyak, Telur)  0.117143    0.745455   \n673           (Susu, Minyak, Sabun)   (Tepung, Telur)  0.117143    0.745455   \n674          (Susu, Minyak, Tepung)    (Sabun, Telur)  0.117143    0.500000   \n\n         lift  \n0    1.090525  \n1    1.090525  \n2    0.984283  \n3    1.067073  \n4    1.067073  \n..        ...  \n670  1.080247  \n671  1.344640  \n672  1.298055  \n673  1.317723  \n674  1.422764  \n\n[675 rows x 5 columns]",
      "text/html": "<div>\n<style scoped>\n    .dataframe tbody tr th:only-of-type {\n        vertical-align: middle;\n    }\n\n    .dataframe tbody tr th {\n        vertical-align: top;\n    }\n\n    .dataframe thead th {\n        text-align: right;\n    }\n</style>\n<table border=\"1\" class=\"dataframe\">\n  <thead>\n    <tr style=\"text-align: right;\">\n      <th></th>\n      <th>antecedents</th>\n      <th>consequents</th>\n      <th>support</th>\n      <th>confidence</th>\n      <th>lift</th>\n    </tr>\n  </thead>\n  <tbody>\n    <tr>\n      <th>0</th>\n      <td>(Deterjen)</td>\n      <td>(Kecap)</td>\n      <td>0.265714</td>\n      <td>0.567073</td>\n      <td>1.090525</td>\n    </tr>\n    <tr>\n      <th>1</th>\n      <td>(Kecap)</td>\n      <td>(Deterjen)</td>\n      <td>0.265714</td>\n      <td>0.510989</td>\n      <td>1.090525</td>\n    </tr>\n    <tr>\n      <th>2</th>\n      <td>(Deterjen)</td>\n      <td>(Minyak)</td>\n      <td>0.305714</td>\n      <td>0.652439</td>\n      <td>0.984283</td>\n    </tr>\n    <tr>\n      <th>3</th>\n      <td>(Deterjen)</td>\n      <td>(Permen)</td>\n      <td>0.251429</td>\n      <td>0.536585</td>\n      <td>1.067073</td>\n    </tr>\n    <tr>\n      <th>4</th>\n      <td>(Permen)</td>\n      <td>(Deterjen)</td>\n      <td>0.251429</td>\n      <td>0.500000</td>\n      <td>1.067073</td>\n    </tr>\n    <tr>\n      <th>...</th>\n      <td>...</td>\n      <td>...</td>\n      <td>...</td>\n      <td>...</td>\n      <td>...</td>\n    </tr>\n    <tr>\n      <th>670</th>\n      <td>(Minyak, Sabun, Tepung, Telur)</td>\n      <td>(Susu)</td>\n      <td>0.117143</td>\n      <td>0.500000</td>\n      <td>1.080247</td>\n    </tr>\n    <tr>\n      <th>671</th>\n      <td>(Susu, Sabun, Telur)</td>\n      <td>(Minyak, Tepung)</td>\n      <td>0.117143</td>\n      <td>0.706897</td>\n      <td>1.344640</td>\n    </tr>\n    <tr>\n      <th>672</th>\n      <td>(Susu, Sabun, Tepung)</td>\n      <td>(Minyak, Telur)</td>\n      <td>0.117143</td>\n      <td>0.745455</td>\n      <td>1.298055</td>\n    </tr>\n    <tr>\n      <th>673</th>\n      <td>(Susu, Minyak, Sabun)</td>\n      <td>(Tepung, Telur)</td>\n      <td>0.117143</td>\n      <td>0.745455</td>\n      <td>1.317723</td>\n    </tr>\n    <tr>\n      <th>674</th>\n      <td>(Susu, Minyak, Tepung)</td>\n      <td>(Sabun, Telur)</td>\n      <td>0.117143</td>\n      <td>0.500000</td>\n      <td>1.422764</td>\n    </tr>\n  </tbody>\n</table>\n<p>675 rows × 5 columns</p>\n</div>"
     },
     "execution_count": 16,
     "metadata": {},
     "output_type": "execute_result"
    }
   ],
   "source": [
    "# simplify the dataframe\n",
    "result_simplify = result[['antecedents', 'consequents', 'support', 'confidence', 'lift']]\n",
    "result_simplify\n"
   ],
   "metadata": {
    "collapsed": false,
    "pycharm": {
     "name": "#%%\n"
    }
   }
  }
 ],
 "metadata": {
  "kernelspec": {
   "display_name": "Python 3",
   "language": "python",
   "name": "python3"
  },
  "language_info": {
   "codemirror_mode": {
    "name": "ipython",
    "version": 2
   },
   "file_extension": ".py",
   "mimetype": "text/x-python",
   "name": "python",
   "nbconvert_exporter": "python",
   "pygments_lexer": "ipython2",
   "version": "2.7.6"
  }
 },
 "nbformat": 4,
 "nbformat_minor": 0
}