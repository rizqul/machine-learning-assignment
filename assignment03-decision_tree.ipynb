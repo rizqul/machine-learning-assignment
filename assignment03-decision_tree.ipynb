{
 "cells": [
  {
   "cell_type": "code",
   "execution_count": 83,
   "metadata": {
    "collapsed": true
   },
   "outputs": [],
   "source": [
    "import pandas as pd\n",
    "import matplotlib.pyplot as plt\n",
    "import seaborn as sns"
   ]
  },
  {
   "cell_type": "code",
   "execution_count": 84,
   "outputs": [
    {
     "data": {
      "text/plain": "        ID Marital Status  Gender    Income  Children        Education  \\\n0    12496        Married  Female   40000.0       1.0        Bachelors   \n1    24107        Married    Male   30000.0       3.0  Partial College   \n2    14177        Married    Male   80000.0       5.0  Partial College   \n3    24381         Single     NaN   70000.0       0.0        Bachelors   \n4    25597         Single    Male   30000.0       0.0        Bachelors   \n..     ...            ...     ...       ...       ...              ...   \n995  23731        Married    Male   60000.0       2.0      High School   \n996  28672         Single    Male   70000.0       4.0  Graduate Degree   \n997  11809        Married     NaN   60000.0       2.0        Bachelors   \n998  19664         Single    Male  100000.0       3.0        Bachelors   \n999  12121         Single    Male   60000.0       3.0      High School   \n\n         Occupation Home Owner  Cars Commute Distance         Region   Age  \\\n0    Skilled Manual        Yes   0.0        0-1 Miles         Europe  42.0   \n1          Clerical        Yes   1.0        0-1 Miles         Europe  43.0   \n2      Professional         No   2.0        2-5 Miles         Europe  60.0   \n3      Professional        Yes   1.0       5-10 Miles        Pacific  41.0   \n4          Clerical         No   0.0        0-1 Miles         Europe  36.0   \n..              ...        ...   ...              ...            ...   ...   \n995    Professional        Yes   2.0        2-5 Miles  North America  54.0   \n996    Professional        Yes   0.0        2-5 Miles  North America  35.0   \n997  Skilled Manual        Yes   0.0        0-1 Miles  North America  38.0   \n998      Management         No   3.0        1-2 Miles  North America  38.0   \n999    Professional        Yes   2.0        10+ Miles  North America  53.0   \n\n    Purchased Bike  \n0               No  \n1               No  \n2               No  \n3              Yes  \n4              Yes  \n..             ...  \n995            Yes  \n996            Yes  \n997            Yes  \n998             No  \n999            Yes  \n\n[1000 rows x 13 columns]",
      "text/html": "<div>\n<style scoped>\n    .dataframe tbody tr th:only-of-type {\n        vertical-align: middle;\n    }\n\n    .dataframe tbody tr th {\n        vertical-align: top;\n    }\n\n    .dataframe thead th {\n        text-align: right;\n    }\n</style>\n<table border=\"1\" class=\"dataframe\">\n  <thead>\n    <tr style=\"text-align: right;\">\n      <th></th>\n      <th>ID</th>\n      <th>Marital Status</th>\n      <th>Gender</th>\n      <th>Income</th>\n      <th>Children</th>\n      <th>Education</th>\n      <th>Occupation</th>\n      <th>Home Owner</th>\n      <th>Cars</th>\n      <th>Commute Distance</th>\n      <th>Region</th>\n      <th>Age</th>\n      <th>Purchased Bike</th>\n    </tr>\n  </thead>\n  <tbody>\n    <tr>\n      <th>0</th>\n      <td>12496</td>\n      <td>Married</td>\n      <td>Female</td>\n      <td>40000.0</td>\n      <td>1.0</td>\n      <td>Bachelors</td>\n      <td>Skilled Manual</td>\n      <td>Yes</td>\n      <td>0.0</td>\n      <td>0-1 Miles</td>\n      <td>Europe</td>\n      <td>42.0</td>\n      <td>No</td>\n    </tr>\n    <tr>\n      <th>1</th>\n      <td>24107</td>\n      <td>Married</td>\n      <td>Male</td>\n      <td>30000.0</td>\n      <td>3.0</td>\n      <td>Partial College</td>\n      <td>Clerical</td>\n      <td>Yes</td>\n      <td>1.0</td>\n      <td>0-1 Miles</td>\n      <td>Europe</td>\n      <td>43.0</td>\n      <td>No</td>\n    </tr>\n    <tr>\n      <th>2</th>\n      <td>14177</td>\n      <td>Married</td>\n      <td>Male</td>\n      <td>80000.0</td>\n      <td>5.0</td>\n      <td>Partial College</td>\n      <td>Professional</td>\n      <td>No</td>\n      <td>2.0</td>\n      <td>2-5 Miles</td>\n      <td>Europe</td>\n      <td>60.0</td>\n      <td>No</td>\n    </tr>\n    <tr>\n      <th>3</th>\n      <td>24381</td>\n      <td>Single</td>\n      <td>NaN</td>\n      <td>70000.0</td>\n      <td>0.0</td>\n      <td>Bachelors</td>\n      <td>Professional</td>\n      <td>Yes</td>\n      <td>1.0</td>\n      <td>5-10 Miles</td>\n      <td>Pacific</td>\n      <td>41.0</td>\n      <td>Yes</td>\n    </tr>\n    <tr>\n      <th>4</th>\n      <td>25597</td>\n      <td>Single</td>\n      <td>Male</td>\n      <td>30000.0</td>\n      <td>0.0</td>\n      <td>Bachelors</td>\n      <td>Clerical</td>\n      <td>No</td>\n      <td>0.0</td>\n      <td>0-1 Miles</td>\n      <td>Europe</td>\n      <td>36.0</td>\n      <td>Yes</td>\n    </tr>\n    <tr>\n      <th>...</th>\n      <td>...</td>\n      <td>...</td>\n      <td>...</td>\n      <td>...</td>\n      <td>...</td>\n      <td>...</td>\n      <td>...</td>\n      <td>...</td>\n      <td>...</td>\n      <td>...</td>\n      <td>...</td>\n      <td>...</td>\n      <td>...</td>\n    </tr>\n    <tr>\n      <th>995</th>\n      <td>23731</td>\n      <td>Married</td>\n      <td>Male</td>\n      <td>60000.0</td>\n      <td>2.0</td>\n      <td>High School</td>\n      <td>Professional</td>\n      <td>Yes</td>\n      <td>2.0</td>\n      <td>2-5 Miles</td>\n      <td>North America</td>\n      <td>54.0</td>\n      <td>Yes</td>\n    </tr>\n    <tr>\n      <th>996</th>\n      <td>28672</td>\n      <td>Single</td>\n      <td>Male</td>\n      <td>70000.0</td>\n      <td>4.0</td>\n      <td>Graduate Degree</td>\n      <td>Professional</td>\n      <td>Yes</td>\n      <td>0.0</td>\n      <td>2-5 Miles</td>\n      <td>North America</td>\n      <td>35.0</td>\n      <td>Yes</td>\n    </tr>\n    <tr>\n      <th>997</th>\n      <td>11809</td>\n      <td>Married</td>\n      <td>NaN</td>\n      <td>60000.0</td>\n      <td>2.0</td>\n      <td>Bachelors</td>\n      <td>Skilled Manual</td>\n      <td>Yes</td>\n      <td>0.0</td>\n      <td>0-1 Miles</td>\n      <td>North America</td>\n      <td>38.0</td>\n      <td>Yes</td>\n    </tr>\n    <tr>\n      <th>998</th>\n      <td>19664</td>\n      <td>Single</td>\n      <td>Male</td>\n      <td>100000.0</td>\n      <td>3.0</td>\n      <td>Bachelors</td>\n      <td>Management</td>\n      <td>No</td>\n      <td>3.0</td>\n      <td>1-2 Miles</td>\n      <td>North America</td>\n      <td>38.0</td>\n      <td>No</td>\n    </tr>\n    <tr>\n      <th>999</th>\n      <td>12121</td>\n      <td>Single</td>\n      <td>Male</td>\n      <td>60000.0</td>\n      <td>3.0</td>\n      <td>High School</td>\n      <td>Professional</td>\n      <td>Yes</td>\n      <td>2.0</td>\n      <td>10+ Miles</td>\n      <td>North America</td>\n      <td>53.0</td>\n      <td>Yes</td>\n    </tr>\n  </tbody>\n</table>\n<p>1000 rows × 13 columns</p>\n</div>"
     },
     "execution_count": 84,
     "metadata": {},
     "output_type": "execute_result"
    }
   ],
   "source": [
    "df = pd.read_csv('Datasets/bike_buyers.csv')\n",
    "df"
   ],
   "metadata": {
    "collapsed": false,
    "pycharm": {
     "name": "#%%\n"
    }
   }
  },
  {
   "cell_type": "code",
   "execution_count": 85,
   "outputs": [
    {
     "data": {
      "text/plain": "    Income  Children  Cars   Age Purchased Bike\n0  40000.0       1.0   0.0  42.0             No\n1  30000.0       3.0   1.0  43.0             No\n2  80000.0       5.0   2.0  60.0             No\n3  70000.0       0.0   1.0  41.0            Yes\n4  30000.0       0.0   0.0  36.0            Yes",
      "text/html": "<div>\n<style scoped>\n    .dataframe tbody tr th:only-of-type {\n        vertical-align: middle;\n    }\n\n    .dataframe tbody tr th {\n        vertical-align: top;\n    }\n\n    .dataframe thead th {\n        text-align: right;\n    }\n</style>\n<table border=\"1\" class=\"dataframe\">\n  <thead>\n    <tr style=\"text-align: right;\">\n      <th></th>\n      <th>Income</th>\n      <th>Children</th>\n      <th>Cars</th>\n      <th>Age</th>\n      <th>Purchased Bike</th>\n    </tr>\n  </thead>\n  <tbody>\n    <tr>\n      <th>0</th>\n      <td>40000.0</td>\n      <td>1.0</td>\n      <td>0.0</td>\n      <td>42.0</td>\n      <td>No</td>\n    </tr>\n    <tr>\n      <th>1</th>\n      <td>30000.0</td>\n      <td>3.0</td>\n      <td>1.0</td>\n      <td>43.0</td>\n      <td>No</td>\n    </tr>\n    <tr>\n      <th>2</th>\n      <td>80000.0</td>\n      <td>5.0</td>\n      <td>2.0</td>\n      <td>60.0</td>\n      <td>No</td>\n    </tr>\n    <tr>\n      <th>3</th>\n      <td>70000.0</td>\n      <td>0.0</td>\n      <td>1.0</td>\n      <td>41.0</td>\n      <td>Yes</td>\n    </tr>\n    <tr>\n      <th>4</th>\n      <td>30000.0</td>\n      <td>0.0</td>\n      <td>0.0</td>\n      <td>36.0</td>\n      <td>Yes</td>\n    </tr>\n  </tbody>\n</table>\n</div>"
     },
     "execution_count": 85,
     "metadata": {},
     "output_type": "execute_result"
    }
   ],
   "source": [
    "data = df.drop(['ID', 'Marital Status', 'Gender', 'Education', 'Occupation', 'Home Owner', 'Commute Distance', 'Region'], inplace=False, axis=1)\n",
    "data.head()"
   ],
   "metadata": {
    "collapsed": false,
    "pycharm": {
     "name": "#%%\n"
    }
   }
  },
  {
   "cell_type": "code",
   "execution_count": 86,
   "outputs": [],
   "source": [
    "# delete data with NaN value\n",
    "df.dropna(inplace=True)"
   ],
   "metadata": {
    "collapsed": false,
    "pycharm": {
     "name": "#%%\n"
    }
   }
  },
  {
   "cell_type": "code",
   "execution_count": 87,
   "outputs": [
    {
     "data": {
      "text/plain": "(191, 761)"
     },
     "execution_count": 87,
     "metadata": {},
     "output_type": "execute_result"
    }
   ],
   "source": [
    "import sklearn\n",
    "from sklearn.model_selection import train_test_split\n",
    "\n",
    "# split into attribute and label\n",
    "x = df[['Children', 'Cars']]\n",
    "y = df['Purchased Bike']\n",
    "\n",
    "# split the data into train and testing\n",
    "x_train, x_test, y_train, y_test = train_test_split(x, y, test_size=0.2)\n",
    "len(x_test), len(x_train)"
   ],
   "metadata": {
    "collapsed": false,
    "pycharm": {
     "name": "#%%\n"
    }
   }
  },
  {
   "cell_type": "markdown",
   "source": [
    "# Decision Tree"
   ],
   "metadata": {
    "collapsed": false
   }
  },
  {
   "cell_type": "code",
   "execution_count": 88,
   "outputs": [
    {
     "data": {
      "text/plain": "[Text(179.955, 203.85, 'X[1] <= 1.5\\nentropy = 0.999\\nsamples = 761\\nvalue = [397, 364]'),\n Text(84.68470588235294, 176.67000000000002, 'X[0] <= 3.5\\nentropy = 0.981\\nsamples = 384\\nvalue = [161, 223]'),\n Text(51.20470588235294, 149.49, 'X[0] <= 2.5\\nentropy = 0.972\\nsamples = 341\\nvalue = [137, 204]'),\n Text(31.51058823529412, 122.31, 'X[1] <= 0.5\\nentropy = 0.978\\nsamples = 303\\nvalue = [125, 178]'),\n Text(15.75529411764706, 95.13, 'X[0] <= 0.5\\nentropy = 0.967\\nsamples = 132\\nvalue = [52, 80]'),\n Text(7.87764705882353, 67.94999999999999, 'entropy = 0.747\\nsamples = 47\\nvalue = [10, 37]'),\n Text(23.632941176470588, 67.94999999999999, 'X[0] <= 1.5\\nentropy = 1.0\\nsamples = 85\\nvalue = [42, 43]'),\n Text(15.75529411764706, 40.77000000000001, 'entropy = 1.0\\nsamples = 56\\nvalue = [28, 28]'),\n Text(31.51058823529412, 40.77000000000001, 'entropy = 0.999\\nsamples = 29\\nvalue = [14, 15]'),\n Text(47.265882352941176, 95.13, 'X[0] <= 0.5\\nentropy = 0.985\\nsamples = 171\\nvalue = [73, 98]'),\n Text(39.38823529411765, 67.94999999999999, 'entropy = 0.996\\nsamples = 78\\nvalue = [42, 36]'),\n Text(55.14352941176471, 67.94999999999999, 'X[0] <= 1.5\\nentropy = 0.918\\nsamples = 93\\nvalue = [31, 62]'),\n Text(47.265882352941176, 40.77000000000001, 'entropy = 0.889\\nsamples = 49\\nvalue = [15, 34]'),\n Text(63.02117647058824, 40.77000000000001, 'entropy = 0.946\\nsamples = 44\\nvalue = [16, 28]'),\n Text(70.89882352941177, 122.31, 'X[1] <= 0.5\\nentropy = 0.9\\nsamples = 38\\nvalue = [12, 26]'),\n Text(63.02117647058824, 95.13, 'entropy = 0.828\\nsamples = 23\\nvalue = [6, 17]'),\n Text(78.7764705882353, 95.13, 'entropy = 0.971\\nsamples = 15\\nvalue = [6, 9]'),\n Text(118.16470588235295, 149.49, 'X[1] <= 0.5\\nentropy = 0.99\\nsamples = 43\\nvalue = [24, 19]'),\n Text(102.40941176470588, 122.31, 'X[0] <= 4.5\\nentropy = 1.0\\nsamples = 26\\nvalue = [13, 13]'),\n Text(94.53176470588235, 95.13, 'entropy = 1.0\\nsamples = 22\\nvalue = [11, 11]'),\n Text(110.28705882352942, 95.13, 'entropy = 1.0\\nsamples = 4\\nvalue = [2, 2]'),\n Text(133.92000000000002, 122.31, 'X[0] <= 4.5\\nentropy = 0.937\\nsamples = 17\\nvalue = [11, 6]'),\n Text(126.04235294117647, 95.13, 'entropy = 0.918\\nsamples = 15\\nvalue = [10, 5]'),\n Text(141.79764705882354, 95.13, 'entropy = 1.0\\nsamples = 2\\nvalue = [1, 1]'),\n Text(275.2252941176471, 176.67000000000002, 'X[0] <= 4.5\\nentropy = 0.954\\nsamples = 377\\nvalue = [236, 141]'),\n Text(231.40588235294118, 149.49, 'X[0] <= 2.5\\nentropy = 0.973\\nsamples = 322\\nvalue = [192, 130]'),\n Text(191.0329411764706, 122.31, 'X[0] <= 1.5\\nentropy = 0.936\\nsamples = 196\\nvalue = [127, 69]'),\n Text(157.5529411764706, 95.13, 'X[1] <= 2.5\\nentropy = 0.965\\nsamples = 110\\nvalue = [67, 43]'),\n Text(137.85882352941178, 67.94999999999999, 'X[0] <= 0.5\\nentropy = 0.928\\nsamples = 70\\nvalue = [46, 24]'),\n Text(129.98117647058825, 40.77000000000001, 'entropy = 0.928\\nsamples = 64\\nvalue = [42, 22]'),\n Text(145.7364705882353, 40.77000000000001, 'entropy = 0.918\\nsamples = 6\\nvalue = [4, 2]'),\n Text(177.24705882352941, 67.94999999999999, 'X[0] <= 0.5\\nentropy = 0.998\\nsamples = 40\\nvalue = [21, 19]'),\n Text(161.49176470588236, 40.77000000000001, 'X[1] <= 3.5\\nentropy = 0.995\\nsamples = 24\\nvalue = [11, 13]'),\n Text(153.61411764705883, 13.590000000000003, 'entropy = 1.0\\nsamples = 16\\nvalue = [8, 8]'),\n Text(169.3694117647059, 13.590000000000003, 'entropy = 0.954\\nsamples = 8\\nvalue = [3, 5]'),\n Text(193.00235294117647, 40.77000000000001, 'X[1] <= 3.5\\nentropy = 0.954\\nsamples = 16\\nvalue = [10, 6]'),\n Text(185.12470588235294, 13.590000000000003, 'entropy = 0.985\\nsamples = 7\\nvalue = [4, 3]'),\n Text(200.88, 13.590000000000003, 'entropy = 0.918\\nsamples = 9\\nvalue = [6, 3]'),\n Text(224.5129411764706, 95.13, 'X[1] <= 3.5\\nentropy = 0.884\\nsamples = 86\\nvalue = [60, 26]'),\n Text(216.63529411764708, 67.94999999999999, 'X[1] <= 2.5\\nentropy = 0.897\\nsamples = 83\\nvalue = [57, 26]'),\n Text(208.75764705882352, 40.77000000000001, 'entropy = 0.904\\nsamples = 75\\nvalue = [51, 24]'),\n Text(224.5129411764706, 40.77000000000001, 'entropy = 0.811\\nsamples = 8\\nvalue = [6, 2]'),\n Text(232.39058823529413, 67.94999999999999, 'entropy = 0.0\\nsamples = 3\\nvalue = [3, 0]'),\n Text(271.7788235294118, 122.31, 'X[0] <= 3.5\\nentropy = 0.999\\nsamples = 126\\nvalue = [65, 61]'),\n Text(256.02352941176474, 95.13, 'X[1] <= 2.5\\nentropy = 1.0\\nsamples = 64\\nvalue = [32, 32]'),\n Text(248.1458823529412, 67.94999999999999, 'entropy = 0.997\\nsamples = 49\\nvalue = [26, 23]'),\n Text(263.90117647058827, 67.94999999999999, 'X[1] <= 3.5\\nentropy = 0.971\\nsamples = 15\\nvalue = [6, 9]'),\n Text(256.02352941176474, 40.77000000000001, 'entropy = 0.811\\nsamples = 8\\nvalue = [2, 6]'),\n Text(271.7788235294118, 40.77000000000001, 'entropy = 0.985\\nsamples = 7\\nvalue = [4, 3]'),\n Text(287.53411764705885, 95.13, 'X[1] <= 2.5\\nentropy = 0.997\\nsamples = 62\\nvalue = [33, 29]'),\n Text(279.6564705882353, 67.94999999999999, 'entropy = 1.0\\nsamples = 42\\nvalue = [21, 21]'),\n Text(295.4117647058824, 67.94999999999999, 'X[1] <= 3.5\\nentropy = 0.971\\nsamples = 20\\nvalue = [12, 8]'),\n Text(287.53411764705885, 40.77000000000001, 'entropy = 0.918\\nsamples = 12\\nvalue = [8, 4]'),\n Text(303.2894117647059, 40.77000000000001, 'entropy = 1.0\\nsamples = 8\\nvalue = [4, 4]'),\n Text(319.04470588235296, 149.49, 'X[1] <= 3.5\\nentropy = 0.722\\nsamples = 55\\nvalue = [44, 11]'),\n Text(311.16705882352943, 122.31, 'X[1] <= 2.5\\nentropy = 0.738\\nsamples = 48\\nvalue = [38, 10]'),\n Text(303.2894117647059, 95.13, 'entropy = 0.691\\nsamples = 27\\nvalue = [22, 5]'),\n Text(319.04470588235296, 95.13, 'entropy = 0.792\\nsamples = 21\\nvalue = [16, 5]'),\n Text(326.9223529411765, 122.31, 'entropy = 0.592\\nsamples = 7\\nvalue = [6, 1]')]"
     },
     "execution_count": 88,
     "metadata": {},
     "output_type": "execute_result"
    },
    {
     "data": {
      "text/plain": "<Figure size 432x288 with 1 Axes>",
      "image/png": "[encoded data removed]"
     },
     "metadata": {
      "needs_background": "light"
     },
     "output_type": "display_data"
    }
   ],
   "source": [
    "from sklearn import tree\n",
    "from sklearn.tree import DecisionTreeClassifier\n",
    "\n",
    "# create model\n",
    "model_tree = DecisionTreeClassifier(criterion='entropy')\n",
    "# training model\n",
    "model_tree.fit(x_train, y_train)\n",
    "# show tree\n",
    "tree.plot_tree(model_tree)"
   ],
   "metadata": {
    "collapsed": false,
    "pycharm": {
     "name": "#%%\n"
    }
   }
  },
  {
   "cell_type": "code",
   "execution_count": 89,
   "outputs": [
    {
     "data": {
      "text/plain": "0.675392670157068"
     },
     "execution_count": 89,
     "metadata": {},
     "output_type": "execute_result"
    }
   ],
   "source": [
    "# Predict Model\n",
    "pred_tree = model_tree.predict(x_test)\n",
    "\n",
    "# Evaluate using dataset\n",
    "accuracy = (pred_tree == y_test).sum()/len(y_test)\n",
    "accuracy"
   ],
   "metadata": {
    "collapsed": false,
    "pycharm": {
     "name": "#%%\n"
    }
   }
  },
  {
   "cell_type": "code",
   "execution_count": 90,
   "outputs": [
    {
     "data": {
      "text/plain": "array([[83, 46],\n       [16, 46]])"
     },
     "execution_count": 90,
     "metadata": {},
     "output_type": "execute_result"
    }
   ],
   "source": [
    "from sklearn.metrics import confusion_matrix\n",
    "cm = confusion_matrix(pred_tree, y_test)\n",
    "cm"
   ],
   "metadata": {
    "collapsed": false,
    "pycharm": {
     "name": "#%%\n"
    }
   }
  },
  {
   "cell_type": "code",
   "execution_count": 91,
   "outputs": [
    {
     "data": {
      "text/plain": "        ID Marital Status  Gender         Region        Education  \\\n0    12496        Married  Female         Europe        Bachelors   \n1    24107        Married    Male         Europe  Partial College   \n2    14177        Married    Male         Europe  Partial College   \n4    25597         Single    Male         Europe        Bachelors   \n5    13507        Married  Female         Europe  Partial College   \n..     ...            ...     ...            ...              ...   \n994  13466        Married    Male  North America  Partial College   \n995  23731        Married    Male  North America      High School   \n996  28672         Single    Male  North America  Graduate Degree   \n998  19664         Single    Male  North America        Bachelors   \n999  12121         Single    Male  North America      High School   \n\n         Occupation Purchased Bike  \n0    Skilled Manual             No  \n1          Clerical             No  \n2      Professional             No  \n4          Clerical            Yes  \n5            Manual             No  \n..              ...            ...  \n994    Professional             No  \n995    Professional            Yes  \n996    Professional            Yes  \n998      Management             No  \n999    Professional            Yes  \n\n[952 rows x 7 columns]",
      "text/html": "<div>\n<style scoped>\n    .dataframe tbody tr th:only-of-type {\n        vertical-align: middle;\n    }\n\n    .dataframe tbody tr th {\n        vertical-align: top;\n    }\n\n    .dataframe thead th {\n        text-align: right;\n    }\n</style>\n<table border=\"1\" class=\"dataframe\">\n  <thead>\n    <tr style=\"text-align: right;\">\n      <th></th>\n      <th>ID</th>\n      <th>Marital Status</th>\n      <th>Gender</th>\n      <th>Region</th>\n      <th>Education</th>\n      <th>Occupation</th>\n      <th>Purchased Bike</th>\n    </tr>\n  </thead>\n  <tbody>\n    <tr>\n      <th>0</th>\n      <td>12496</td>\n      <td>Married</td>\n      <td>Female</td>\n      <td>Europe</td>\n      <td>Bachelors</td>\n      <td>Skilled Manual</td>\n      <td>No</td>\n    </tr>\n    <tr>\n      <th>1</th>\n      <td>24107</td>\n      <td>Married</td>\n      <td>Male</td>\n      <td>Europe</td>\n      <td>Partial College</td>\n      <td>Clerical</td>\n      <td>No</td>\n    </tr>\n    <tr>\n      <th>2</th>\n      <td>14177</td>\n      <td>Married</td>\n      <td>Male</td>\n      <td>Europe</td>\n      <td>Partial College</td>\n      <td>Professional</td>\n      <td>No</td>\n    </tr>\n    <tr>\n      <th>4</th>\n      <td>25597</td>\n      <td>Single</td>\n      <td>Male</td>\n      <td>Europe</td>\n      <td>Bachelors</td>\n      <td>Clerical</td>\n      <td>Yes</td>\n    </tr>\n    <tr>\n      <th>5</th>\n      <td>13507</td>\n      <td>Married</td>\n      <td>Female</td>\n      <td>Europe</td>\n      <td>Partial College</td>\n      <td>Manual</td>\n      <td>No</td>\n    </tr>\n    <tr>\n      <th>...</th>\n      <td>...</td>\n      <td>...</td>\n      <td>...</td>\n      <td>...</td>\n      <td>...</td>\n      <td>...</td>\n      <td>...</td>\n    </tr>\n    <tr>\n      <th>994</th>\n      <td>13466</td>\n      <td>Married</td>\n      <td>Male</td>\n      <td>North America</td>\n      <td>Partial College</td>\n      <td>Professional</td>\n      <td>No</td>\n    </tr>\n    <tr>\n      <th>995</th>\n      <td>23731</td>\n      <td>Married</td>\n      <td>Male</td>\n      <td>North America</td>\n      <td>High School</td>\n      <td>Professional</td>\n      <td>Yes</td>\n    </tr>\n    <tr>\n      <th>996</th>\n      <td>28672</td>\n      <td>Single</td>\n      <td>Male</td>\n      <td>North America</td>\n      <td>Graduate Degree</td>\n      <td>Professional</td>\n      <td>Yes</td>\n    </tr>\n    <tr>\n      <th>998</th>\n      <td>19664</td>\n      <td>Single</td>\n      <td>Male</td>\n      <td>North America</td>\n      <td>Bachelors</td>\n      <td>Management</td>\n      <td>No</td>\n    </tr>\n    <tr>\n      <th>999</th>\n      <td>12121</td>\n      <td>Single</td>\n      <td>Male</td>\n      <td>North America</td>\n      <td>High School</td>\n      <td>Professional</td>\n      <td>Yes</td>\n    </tr>\n  </tbody>\n</table>\n<p>952 rows × 7 columns</p>\n</div>"
     },
     "execution_count": 91,
     "metadata": {},
     "output_type": "execute_result"
    }
   ],
   "source": [
    "data2 = df[['ID','Marital Status', 'Gender', 'Region', 'Education', 'Occupation', 'Purchased Bike']]\n",
    "data2"
   ],
   "metadata": {
    "collapsed": false,
    "pycharm": {
     "name": "#%%\n"
    }
   }
  },
  {
   "cell_type": "code",
   "execution_count": 92,
   "outputs": [],
   "source": [
    "d = {'Yes':True, 'No':False}\n",
    "df['Purchased Bike'] = df['Purchased Bike'].map(d)"
   ],
   "metadata": {
    "collapsed": false,
    "pycharm": {
     "name": "#%%\n"
    }
   }
  },
  {
   "cell_type": "code",
   "execution_count": 93,
   "outputs": [
    {
     "name": "stdout",
     "output_type": "stream",
     "text": [
      "Index(['ID', 'Marital Status', 'Gender', 'Region', 'Education', 'Occupation'], dtype='object')\n"
     ]
    }
   ],
   "source": [
    "from info_gain import info_gain\n",
    "\n",
    "data2_atr = data2.columns\n",
    "feature = data2_atr[0:-1]\n",
    "print(feature)"
   ],
   "metadata": {
    "collapsed": false,
    "pycharm": {
     "name": "#%%\n"
    }
   }
  },
  {
   "cell_type": "code",
   "execution_count": 94,
   "outputs": [
    {
     "name": "stdout",
     "output_type": "stream",
     "text": [
      "ID : \n",
      " Information Gain \t : 0.6922642146294702 \n",
      " Interistict Value \t : 0.6922642146294702 \n",
      " Information Gain Ratio  : 0.6922642146294702\n",
      "Marital Status : \n",
      " Information Gain \t : 0.00563057814475143 \n",
      " Interistict Value \t : 0.00563057814475143 \n",
      " Information Gain Ratio  : 0.00563057814475143\n",
      "Gender : \n",
      " Information Gain \t : 0.0001740993591368145 \n",
      " Interistict Value \t : 0.0001740993591368145 \n",
      " Information Gain Ratio  : 0.0001740993591368145\n",
      "Region : \n",
      " Information Gain \t : 0.006677726799669381 \n",
      " Interistict Value \t : 0.006677726799669381 \n",
      " Information Gain Ratio  : 0.006677726799669381\n",
      "Education : \n",
      " Information Gain \t : 0.013151618019806355 \n",
      " Interistict Value \t : 0.013151618019806355 \n",
      " Information Gain Ratio  : 0.013151618019806355\n",
      "Occupation : \n",
      " Information Gain \t : 0.004615862919425839 \n",
      " Interistict Value \t : 0.004615862919425839 \n",
      " Information Gain Ratio  : 0.004615862919425839\n"
     ]
    }
   ],
   "source": [
    "IG, IV, IGR = [], [], []\n",
    "\n",
    "for i in feature:\n",
    "    temp_ig = info_gain.info_gain(data2['Purchased Bike'], data2[i])\n",
    "    temp_iv = info_gain.info_gain(data2['Purchased Bike'], data2[i])\n",
    "    temp_igr = info_gain.info_gain(data2['Purchased Bike'], data2[i])\n",
    "    print(f\"{i} : \\n Information Gain \\t : {temp_ig} \\n Interistict Value \\t : {temp_iv} \\n Information Gain Ratio  : {temp_igr}\")\n",
    "    IG.append(temp_ig)\n",
    "    IV.append(temp_iv)\n",
    "    IGR.append(temp_igr)\n"
   ],
   "metadata": {
    "collapsed": false,
    "pycharm": {
     "name": "#%%\n"
    }
   }
  }
 ],
 "metadata": {
  "kernelspec": {
   "display_name": "Python 3",
   "language": "python",
   "name": "python3"
  },
  "language_info": {
   "codemirror_mode": {
    "name": "ipython",
    "version": 2
   },
   "file_extension": ".py",
   "mimetype": "text/x-python",
   "name": "python",
   "nbconvert_exporter": "python",
   "pygments_lexer": "ipython2",
   "version": "2.7.6"
  }
 },
 "nbformat": 4,
 "nbformat_minor": 0
}