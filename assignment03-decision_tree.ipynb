{
 "cells": [
  {
   "cell_type": "code",
   "execution_count": 6,
   "metadata": {
    "collapsed": true
   },
   "outputs": [],
   "source": [
    "import pandas as pd\n",
    "import matplotlib.pyplot as plt\n",
    "import seaborn as sns"
   ]
  },
  {
   "cell_type": "code",
   "execution_count": 9,
   "outputs": [
    {
     "data": {
      "text/plain": "        ID Marital Status  Gender    Income  Children        Education  \\\n0    12496        Married  Female   40000.0       1.0        Bachelors   \n1    24107        Married    Male   30000.0       3.0  Partial College   \n2    14177        Married    Male   80000.0       5.0  Partial College   \n3    24381         Single     NaN   70000.0       0.0        Bachelors   \n4    25597         Single    Male   30000.0       0.0        Bachelors   \n..     ...            ...     ...       ...       ...              ...   \n995  23731        Married    Male   60000.0       2.0      High School   \n996  28672         Single    Male   70000.0       4.0  Graduate Degree   \n997  11809        Married     NaN   60000.0       2.0        Bachelors   \n998  19664         Single    Male  100000.0       3.0        Bachelors   \n999  12121         Single    Male   60000.0       3.0      High School   \n\n         Occupation Home Owner  Cars Commute Distance         Region   Age  \\\n0    Skilled Manual        Yes   0.0        0-1 Miles         Europe  42.0   \n1          Clerical        Yes   1.0        0-1 Miles         Europe  43.0   \n2      Professional         No   2.0        2-5 Miles         Europe  60.0   \n3      Professional        Yes   1.0       5-10 Miles        Pacific  41.0   \n4          Clerical         No   0.0        0-1 Miles         Europe  36.0   \n..              ...        ...   ...              ...            ...   ...   \n995    Professional        Yes   2.0        2-5 Miles  North America  54.0   \n996    Professional        Yes   0.0        2-5 Miles  North America  35.0   \n997  Skilled Manual        Yes   0.0        0-1 Miles  North America  38.0   \n998      Management         No   3.0        1-2 Miles  North America  38.0   \n999    Professional        Yes   2.0        10+ Miles  North America  53.0   \n\n    Purchased Bike  \n0               No  \n1               No  \n2               No  \n3              Yes  \n4              Yes  \n..             ...  \n995            Yes  \n996            Yes  \n997            Yes  \n998             No  \n999            Yes  \n\n[1000 rows x 13 columns]",
      "text/html": "<div>\n<style scoped>\n    .dataframe tbody tr th:only-of-type {\n        vertical-align: middle;\n    }\n\n    .dataframe tbody tr th {\n        vertical-align: top;\n    }\n\n    .dataframe thead th {\n        text-align: right;\n    }\n</style>\n<table border=\"1\" class=\"dataframe\">\n  <thead>\n    <tr style=\"text-align: right;\">\n      <th></th>\n      <th>ID</th>\n      <th>Marital Status</th>\n      <th>Gender</th>\n      <th>Income</th>\n      <th>Children</th>\n      <th>Education</th>\n      <th>Occupation</th>\n      <th>Home Owner</th>\n      <th>Cars</th>\n      <th>Commute Distance</th>\n      <th>Region</th>\n      <th>Age</th>\n      <th>Purchased Bike</th>\n    </tr>\n  </thead>\n  <tbody>\n    <tr>\n      <th>0</th>\n      <td>12496</td>\n      <td>Married</td>\n      <td>Female</td>\n      <td>40000.0</td>\n      <td>1.0</td>\n      <td>Bachelors</td>\n      <td>Skilled Manual</td>\n      <td>Yes</td>\n      <td>0.0</td>\n      <td>0-1 Miles</td>\n      <td>Europe</td>\n      <td>42.0</td>\n      <td>No</td>\n    </tr>\n    <tr>\n      <th>1</th>\n      <td>24107</td>\n      <td>Married</td>\n      <td>Male</td>\n      <td>30000.0</td>\n      <td>3.0</td>\n      <td>Partial College</td>\n      <td>Clerical</td>\n      <td>Yes</td>\n      <td>1.0</td>\n      <td>0-1 Miles</td>\n      <td>Europe</td>\n      <td>43.0</td>\n      <td>No</td>\n    </tr>\n    <tr>\n      <th>2</th>\n      <td>14177</td>\n      <td>Married</td>\n      <td>Male</td>\n      <td>80000.0</td>\n      <td>5.0</td>\n      <td>Partial College</td>\n      <td>Professional</td>\n      <td>No</td>\n      <td>2.0</td>\n      <td>2-5 Miles</td>\n      <td>Europe</td>\n      <td>60.0</td>\n      <td>No</td>\n    </tr>\n    <tr>\n      <th>3</th>\n      <td>24381</td>\n      <td>Single</td>\n      <td>NaN</td>\n      <td>70000.0</td>\n      <td>0.0</td>\n      <td>Bachelors</td>\n      <td>Professional</td>\n      <td>Yes</td>\n      <td>1.0</td>\n      <td>5-10 Miles</td>\n      <td>Pacific</td>\n      <td>41.0</td>\n      <td>Yes</td>\n    </tr>\n    <tr>\n      <th>4</th>\n      <td>25597</td>\n      <td>Single</td>\n      <td>Male</td>\n      <td>30000.0</td>\n      <td>0.0</td>\n      <td>Bachelors</td>\n      <td>Clerical</td>\n      <td>No</td>\n      <td>0.0</td>\n      <td>0-1 Miles</td>\n      <td>Europe</td>\n      <td>36.0</td>\n      <td>Yes</td>\n    </tr>\n    <tr>\n      <th>...</th>\n      <td>...</td>\n      <td>...</td>\n      <td>...</td>\n      <td>...</td>\n      <td>...</td>\n      <td>...</td>\n      <td>...</td>\n      <td>...</td>\n      <td>...</td>\n      <td>...</td>\n      <td>...</td>\n      <td>...</td>\n      <td>...</td>\n    </tr>\n    <tr>\n      <th>995</th>\n      <td>23731</td>\n      <td>Married</td>\n      <td>Male</td>\n      <td>60000.0</td>\n      <td>2.0</td>\n      <td>High School</td>\n      <td>Professional</td>\n      <td>Yes</td>\n      <td>2.0</td>\n      <td>2-5 Miles</td>\n      <td>North America</td>\n      <td>54.0</td>\n      <td>Yes</td>\n    </tr>\n    <tr>\n      <th>996</th>\n      <td>28672</td>\n      <td>Single</td>\n      <td>Male</td>\n      <td>70000.0</td>\n      <td>4.0</td>\n      <td>Graduate Degree</td>\n      <td>Professional</td>\n      <td>Yes</td>\n      <td>0.0</td>\n      <td>2-5 Miles</td>\n      <td>North America</td>\n      <td>35.0</td>\n      <td>Yes</td>\n    </tr>\n    <tr>\n      <th>997</th>\n      <td>11809</td>\n      <td>Married</td>\n      <td>NaN</td>\n      <td>60000.0</td>\n      <td>2.0</td>\n      <td>Bachelors</td>\n      <td>Skilled Manual</td>\n      <td>Yes</td>\n      <td>0.0</td>\n      <td>0-1 Miles</td>\n      <td>North America</td>\n      <td>38.0</td>\n      <td>Yes</td>\n    </tr>\n    <tr>\n      <th>998</th>\n      <td>19664</td>\n      <td>Single</td>\n      <td>Male</td>\n      <td>100000.0</td>\n      <td>3.0</td>\n      <td>Bachelors</td>\n      <td>Management</td>\n      <td>No</td>\n      <td>3.0</td>\n      <td>1-2 Miles</td>\n      <td>North America</td>\n      <td>38.0</td>\n      <td>No</td>\n    </tr>\n    <tr>\n      <th>999</th>\n      <td>12121</td>\n      <td>Single</td>\n      <td>Male</td>\n      <td>60000.0</td>\n      <td>3.0</td>\n      <td>High School</td>\n      <td>Professional</td>\n      <td>Yes</td>\n      <td>2.0</td>\n      <td>10+ Miles</td>\n      <td>North America</td>\n      <td>53.0</td>\n      <td>Yes</td>\n    </tr>\n  </tbody>\n</table>\n<p>1000 rows × 13 columns</p>\n</div>"
     },
     "execution_count": 9,
     "metadata": {},
     "output_type": "execute_result"
    }
   ],
   "source": [
    "df = pd.read_csv('Datasets/bike_buyers.csv')\n",
    "df"
   ],
   "metadata": {
    "collapsed": false,
    "pycharm": {
     "name": "#%%\n"
    }
   }
  },
  {
   "cell_type": "code",
   "execution_count": 8,
   "outputs": [
    {
     "ename": "KeyError",
     "evalue": "\"['ID' 'Marital Status' 'Gender' 'Education' 'Occupation' 'Home Owner'\\n 'Commute Distance' 'Region'] not found in axis\"",
     "output_type": "error",
     "traceback": [
      "\u001B[0;31m---------------------------------------------------------------------------\u001B[0m",
      "\u001B[0;31mKeyError\u001B[0m                                  Traceback (most recent call last)",
      "\u001B[0;32m/tmp/ipykernel_34792/3302400339.py\u001B[0m in \u001B[0;36m<module>\u001B[0;34m\u001B[0m\n\u001B[0;32m----> 1\u001B[0;31m \u001B[0mdata\u001B[0m \u001B[0;34m=\u001B[0m \u001B[0mdf\u001B[0m\u001B[0;34m.\u001B[0m\u001B[0mdrop\u001B[0m\u001B[0;34m(\u001B[0m\u001B[0;34m[\u001B[0m\u001B[0;34m'ID'\u001B[0m\u001B[0;34m,\u001B[0m \u001B[0;34m'Marital Status'\u001B[0m\u001B[0;34m,\u001B[0m \u001B[0;34m'Gender'\u001B[0m\u001B[0;34m,\u001B[0m \u001B[0;34m'Education'\u001B[0m\u001B[0;34m,\u001B[0m \u001B[0;34m'Occupation'\u001B[0m\u001B[0;34m,\u001B[0m \u001B[0;34m'Home Owner'\u001B[0m\u001B[0;34m,\u001B[0m \u001B[0;34m'Commute Distance'\u001B[0m\u001B[0;34m,\u001B[0m \u001B[0;34m'Region'\u001B[0m\u001B[0;34m]\u001B[0m\u001B[0;34m,\u001B[0m \u001B[0minplace\u001B[0m\u001B[0;34m=\u001B[0m\u001B[0;32mFalse\u001B[0m\u001B[0;34m,\u001B[0m \u001B[0maxis\u001B[0m\u001B[0;34m=\u001B[0m\u001B[0;36m1\u001B[0m\u001B[0;34m)\u001B[0m\u001B[0;34m\u001B[0m\u001B[0;34m\u001B[0m\u001B[0m\n\u001B[0m\u001B[1;32m      2\u001B[0m \u001B[0mdata\u001B[0m\u001B[0;34m.\u001B[0m\u001B[0mhead\u001B[0m\u001B[0;34m(\u001B[0m\u001B[0;34m)\u001B[0m\u001B[0;34m\u001B[0m\u001B[0;34m\u001B[0m\u001B[0m\n\u001B[1;32m      3\u001B[0m \u001B[0;34m\u001B[0m\u001B[0m\n",
      "\u001B[0;32m~/Coding/machine-learning/venv/lib/python3.9/site-packages/pandas/util/_decorators.py\u001B[0m in \u001B[0;36mwrapper\u001B[0;34m(*args, **kwargs)\u001B[0m\n\u001B[1;32m    309\u001B[0m                     \u001B[0mstacklevel\u001B[0m\u001B[0;34m=\u001B[0m\u001B[0mstacklevel\u001B[0m\u001B[0;34m,\u001B[0m\u001B[0;34m\u001B[0m\u001B[0;34m\u001B[0m\u001B[0m\n\u001B[1;32m    310\u001B[0m                 )\n\u001B[0;32m--> 311\u001B[0;31m             \u001B[0;32mreturn\u001B[0m \u001B[0mfunc\u001B[0m\u001B[0;34m(\u001B[0m\u001B[0;34m*\u001B[0m\u001B[0margs\u001B[0m\u001B[0;34m,\u001B[0m \u001B[0;34m**\u001B[0m\u001B[0mkwargs\u001B[0m\u001B[0;34m)\u001B[0m\u001B[0;34m\u001B[0m\u001B[0;34m\u001B[0m\u001B[0m\n\u001B[0m\u001B[1;32m    312\u001B[0m \u001B[0;34m\u001B[0m\u001B[0m\n\u001B[1;32m    313\u001B[0m         \u001B[0;32mreturn\u001B[0m \u001B[0mwrapper\u001B[0m\u001B[0;34m\u001B[0m\u001B[0;34m\u001B[0m\u001B[0m\n",
      "\u001B[0;32m~/Coding/machine-learning/venv/lib/python3.9/site-packages/pandas/core/frame.py\u001B[0m in \u001B[0;36mdrop\u001B[0;34m(self, labels, axis, index, columns, level, inplace, errors)\u001B[0m\n\u001B[1;32m   4899\u001B[0m                 \u001B[0mweight\u001B[0m  \u001B[0;36m1.0\u001B[0m     \u001B[0;36m0.8\u001B[0m\u001B[0;34m\u001B[0m\u001B[0;34m\u001B[0m\u001B[0m\n\u001B[1;32m   4900\u001B[0m         \"\"\"\n\u001B[0;32m-> 4901\u001B[0;31m         return super().drop(\n\u001B[0m\u001B[1;32m   4902\u001B[0m             \u001B[0mlabels\u001B[0m\u001B[0;34m=\u001B[0m\u001B[0mlabels\u001B[0m\u001B[0;34m,\u001B[0m\u001B[0;34m\u001B[0m\u001B[0;34m\u001B[0m\u001B[0m\n\u001B[1;32m   4903\u001B[0m             \u001B[0maxis\u001B[0m\u001B[0;34m=\u001B[0m\u001B[0maxis\u001B[0m\u001B[0;34m,\u001B[0m\u001B[0;34m\u001B[0m\u001B[0;34m\u001B[0m\u001B[0m\n",
      "\u001B[0;32m~/Coding/machine-learning/venv/lib/python3.9/site-packages/pandas/core/generic.py\u001B[0m in \u001B[0;36mdrop\u001B[0;34m(self, labels, axis, index, columns, level, inplace, errors)\u001B[0m\n\u001B[1;32m   4148\u001B[0m         \u001B[0;32mfor\u001B[0m \u001B[0maxis\u001B[0m\u001B[0;34m,\u001B[0m \u001B[0mlabels\u001B[0m \u001B[0;32min\u001B[0m \u001B[0maxes\u001B[0m\u001B[0;34m.\u001B[0m\u001B[0mitems\u001B[0m\u001B[0;34m(\u001B[0m\u001B[0;34m)\u001B[0m\u001B[0;34m:\u001B[0m\u001B[0;34m\u001B[0m\u001B[0;34m\u001B[0m\u001B[0m\n\u001B[1;32m   4149\u001B[0m             \u001B[0;32mif\u001B[0m \u001B[0mlabels\u001B[0m \u001B[0;32mis\u001B[0m \u001B[0;32mnot\u001B[0m \u001B[0;32mNone\u001B[0m\u001B[0;34m:\u001B[0m\u001B[0;34m\u001B[0m\u001B[0;34m\u001B[0m\u001B[0m\n\u001B[0;32m-> 4150\u001B[0;31m                 \u001B[0mobj\u001B[0m \u001B[0;34m=\u001B[0m \u001B[0mobj\u001B[0m\u001B[0;34m.\u001B[0m\u001B[0m_drop_axis\u001B[0m\u001B[0;34m(\u001B[0m\u001B[0mlabels\u001B[0m\u001B[0;34m,\u001B[0m \u001B[0maxis\u001B[0m\u001B[0;34m,\u001B[0m \u001B[0mlevel\u001B[0m\u001B[0;34m=\u001B[0m\u001B[0mlevel\u001B[0m\u001B[0;34m,\u001B[0m \u001B[0merrors\u001B[0m\u001B[0;34m=\u001B[0m\u001B[0merrors\u001B[0m\u001B[0;34m)\u001B[0m\u001B[0;34m\u001B[0m\u001B[0;34m\u001B[0m\u001B[0m\n\u001B[0m\u001B[1;32m   4151\u001B[0m \u001B[0;34m\u001B[0m\u001B[0m\n\u001B[1;32m   4152\u001B[0m         \u001B[0;32mif\u001B[0m \u001B[0minplace\u001B[0m\u001B[0;34m:\u001B[0m\u001B[0;34m\u001B[0m\u001B[0;34m\u001B[0m\u001B[0m\n",
      "\u001B[0;32m~/Coding/machine-learning/venv/lib/python3.9/site-packages/pandas/core/generic.py\u001B[0m in \u001B[0;36m_drop_axis\u001B[0;34m(self, labels, axis, level, errors)\u001B[0m\n\u001B[1;32m   4183\u001B[0m                 \u001B[0mnew_axis\u001B[0m \u001B[0;34m=\u001B[0m \u001B[0maxis\u001B[0m\u001B[0;34m.\u001B[0m\u001B[0mdrop\u001B[0m\u001B[0;34m(\u001B[0m\u001B[0mlabels\u001B[0m\u001B[0;34m,\u001B[0m \u001B[0mlevel\u001B[0m\u001B[0;34m=\u001B[0m\u001B[0mlevel\u001B[0m\u001B[0;34m,\u001B[0m \u001B[0merrors\u001B[0m\u001B[0;34m=\u001B[0m\u001B[0merrors\u001B[0m\u001B[0;34m)\u001B[0m\u001B[0;34m\u001B[0m\u001B[0;34m\u001B[0m\u001B[0m\n\u001B[1;32m   4184\u001B[0m             \u001B[0;32melse\u001B[0m\u001B[0;34m:\u001B[0m\u001B[0;34m\u001B[0m\u001B[0;34m\u001B[0m\u001B[0m\n\u001B[0;32m-> 4185\u001B[0;31m                 \u001B[0mnew_axis\u001B[0m \u001B[0;34m=\u001B[0m \u001B[0maxis\u001B[0m\u001B[0;34m.\u001B[0m\u001B[0mdrop\u001B[0m\u001B[0;34m(\u001B[0m\u001B[0mlabels\u001B[0m\u001B[0;34m,\u001B[0m \u001B[0merrors\u001B[0m\u001B[0;34m=\u001B[0m\u001B[0merrors\u001B[0m\u001B[0;34m)\u001B[0m\u001B[0;34m\u001B[0m\u001B[0;34m\u001B[0m\u001B[0m\n\u001B[0m\u001B[1;32m   4186\u001B[0m             \u001B[0mresult\u001B[0m \u001B[0;34m=\u001B[0m \u001B[0mself\u001B[0m\u001B[0;34m.\u001B[0m\u001B[0mreindex\u001B[0m\u001B[0;34m(\u001B[0m\u001B[0;34m**\u001B[0m\u001B[0;34m{\u001B[0m\u001B[0maxis_name\u001B[0m\u001B[0;34m:\u001B[0m \u001B[0mnew_axis\u001B[0m\u001B[0;34m}\u001B[0m\u001B[0;34m)\u001B[0m\u001B[0;34m\u001B[0m\u001B[0;34m\u001B[0m\u001B[0m\n\u001B[1;32m   4187\u001B[0m \u001B[0;34m\u001B[0m\u001B[0m\n",
      "\u001B[0;32m~/Coding/machine-learning/venv/lib/python3.9/site-packages/pandas/core/indexes/base.py\u001B[0m in \u001B[0;36mdrop\u001B[0;34m(self, labels, errors)\u001B[0m\n\u001B[1;32m   6016\u001B[0m         \u001B[0;32mif\u001B[0m \u001B[0mmask\u001B[0m\u001B[0;34m.\u001B[0m\u001B[0many\u001B[0m\u001B[0;34m(\u001B[0m\u001B[0;34m)\u001B[0m\u001B[0;34m:\u001B[0m\u001B[0;34m\u001B[0m\u001B[0;34m\u001B[0m\u001B[0m\n\u001B[1;32m   6017\u001B[0m             \u001B[0;32mif\u001B[0m \u001B[0merrors\u001B[0m \u001B[0;34m!=\u001B[0m \u001B[0;34m\"ignore\"\u001B[0m\u001B[0;34m:\u001B[0m\u001B[0;34m\u001B[0m\u001B[0;34m\u001B[0m\u001B[0m\n\u001B[0;32m-> 6018\u001B[0;31m                 \u001B[0;32mraise\u001B[0m \u001B[0mKeyError\u001B[0m\u001B[0;34m(\u001B[0m\u001B[0;34mf\"{labels[mask]} not found in axis\"\u001B[0m\u001B[0;34m)\u001B[0m\u001B[0;34m\u001B[0m\u001B[0;34m\u001B[0m\u001B[0m\n\u001B[0m\u001B[1;32m   6019\u001B[0m             \u001B[0mindexer\u001B[0m \u001B[0;34m=\u001B[0m \u001B[0mindexer\u001B[0m\u001B[0;34m[\u001B[0m\u001B[0;34m~\u001B[0m\u001B[0mmask\u001B[0m\u001B[0;34m]\u001B[0m\u001B[0;34m\u001B[0m\u001B[0;34m\u001B[0m\u001B[0m\n\u001B[1;32m   6020\u001B[0m         \u001B[0;32mreturn\u001B[0m \u001B[0mself\u001B[0m\u001B[0;34m.\u001B[0m\u001B[0mdelete\u001B[0m\u001B[0;34m(\u001B[0m\u001B[0mindexer\u001B[0m\u001B[0;34m)\u001B[0m\u001B[0;34m\u001B[0m\u001B[0;34m\u001B[0m\u001B[0m\n",
      "\u001B[0;31mKeyError\u001B[0m: \"['ID' 'Marital Status' 'Gender' 'Education' 'Occupation' 'Home Owner'\\n 'Commute Distance' 'Region'] not found in axis\""
     ]
    }
   ],
   "source": [
    "data = df.drop(['ID', 'Marital Status', 'Gender', 'Education', 'Occupation', 'Home Owner', 'Commute Distance', 'Region'], inplace=False, axis=1)\n",
    "data.head()"
   ],
   "metadata": {
    "collapsed": false,
    "pycharm": {
     "name": "#%%\n"
    }
   }
  },
  {
   "cell_type": "code",
   "execution_count": null,
   "outputs": [],
   "source": [
    "# delete data with NaN value\n",
    "df.dropna(inplace=True)"
   ],
   "metadata": {
    "collapsed": false,
    "pycharm": {
     "name": "#%%\n"
    }
   }
  },
  {
   "cell_type": "code",
   "execution_count": null,
   "outputs": [],
   "source": [
    "import sklearn\n",
    "from sklearn.model_selection import train_test_split\n",
    "\n",
    "# split into attribute and label\n",
    "x = df[['Children', 'Cars']]\n",
    "y = df['Purchased Bike']\n",
    "\n",
    "# split the data into train and testing\n",
    "x_train, x_test, y_train, y_test = train_test_split(x, y, test_size=0.2)\n",
    "len(x_test), len(x_train)"
   ],
   "metadata": {
    "collapsed": false,
    "pycharm": {
     "name": "#%%\n"
    }
   }
  },
  {
   "cell_type": "markdown",
   "source": [
    "# Decision Tree"
   ],
   "metadata": {
    "collapsed": false
   }
  },
  {
   "cell_type": "code",
   "execution_count": null,
   "outputs": [],
   "source": [
    "from sklearn import tree\n",
    "from sklearn.tree import DecisionTreeClassifier\n",
    "\n",
    "# create model\n",
    "model_tree = DecisionTreeClassifier(criterion='entropy')\n",
    "# training model\n",
    "model_tree.fit(x_train, y_train)\n",
    "# show tree\n",
    "tree.plot_tree(model_tree)"
   ],
   "metadata": {
    "collapsed": false,
    "pycharm": {
     "name": "#%%\n"
    }
   }
  },
  {
   "cell_type": "code",
   "execution_count": null,
   "outputs": [],
   "source": [
    "# Predict Model\n",
    "pred_tree = model_tree.predict(x_test)\n",
    "\n",
    "# Evaluate using dataset\n",
    "accuracy = (pred_tree == y_test).sum()/len(y_test)\n",
    "accuracy"
   ],
   "metadata": {
    "collapsed": false,
    "pycharm": {
     "name": "#%%\n"
    }
   }
  },
  {
   "cell_type": "code",
   "execution_count": null,
   "outputs": [],
   "source": [
    "from sklearn.metrics import confusion_matrix\n",
    "cm = confusion_matrix(pred_tree, y_test)\n",
    "cm"
   ],
   "metadata": {
    "collapsed": false,
    "pycharm": {
     "name": "#%%\n"
    }
   }
  },
  {
   "cell_type": "code",
   "execution_count": null,
   "outputs": [],
   "source": [
    "data2 = df[['ID','Marital Status', 'Gender', 'Region', 'Education', 'Occupation', 'Purchased Bike']]\n",
    "data2"
   ],
   "metadata": {
    "collapsed": false,
    "pycharm": {
     "name": "#%%\n"
    }
   }
  },
  {
   "cell_type": "code",
   "execution_count": null,
   "outputs": [],
   "source": [
    "d = {'Yes':True, 'No':False}\n",
    "df['Purchased Bike'] = df['Purchased Bike'].map(d)"
   ],
   "metadata": {
    "collapsed": false,
    "pycharm": {
     "name": "#%%\n"
    }
   }
  },
  {
   "cell_type": "code",
   "execution_count": null,
   "outputs": [],
   "source": [
    "from info_gain import info_gain\n",
    "\n",
    "data2_atr = data2.columns\n",
    "feature = data2_atr[0:-1]\n",
    "print(feature)"
   ],
   "metadata": {
    "collapsed": false,
    "pycharm": {
     "name": "#%%\n"
    }
   }
  },
  {
   "cell_type": "code",
   "execution_count": null,
   "outputs": [],
   "source": [
    "IG, IV, IGR = [], [], []\n",
    "\n",
    "for i in feature:\n",
    "    temp_ig = info_gain.info_gain(data2['Purchased Bike'], data2[i])\n",
    "    temp_iv = info_gain.info_gain(data2['Purchased Bike'], data2[i])\n",
    "    temp_igr = info_gain.info_gain(data2['Purchased Bike'], data2[i])\n",
    "    print(f\"{i} : \\n Information Gain \\t : {temp_ig} \\n Interistict Value \\t : {temp_iv} \\n Information Gain Ratio  : {temp_igr}\")\n",
    "    IG.append(temp_ig)\n",
    "    IV.append(temp_iv)\n",
    "    IGR.append(temp_igr)\n"
   ],
   "metadata": {
    "collapsed": false,
    "pycharm": {
     "name": "#%%\n"
    }
   }
  }
 ],
 "metadata": {
  "kernelspec": {
   "display_name": "Python 3",
   "language": "python",
   "name": "python3"
  },
  "language_info": {
   "codemirror_mode": {
    "name": "ipython",
    "version": 2
   },
   "file_extension": ".py",
   "mimetype": "text/x-python",
   "name": "python",
   "nbconvert_exporter": "python",
   "pygments_lexer": "ipython2",
   "version": "2.7.6"
  }
 },
 "nbformat": 4,
 "nbformat_minor": 0
}